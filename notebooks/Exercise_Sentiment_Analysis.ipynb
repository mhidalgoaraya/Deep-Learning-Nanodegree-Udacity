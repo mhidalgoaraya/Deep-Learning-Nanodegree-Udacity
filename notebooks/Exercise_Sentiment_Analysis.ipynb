{
 "cells": [
  {
   "cell_type": "markdown",
   "metadata": {},
   "source": [
    "# Sentiment Classification & How To \"Frame Problems\" for a Neural Network\n",
    "\n",
    "by Andrew Trask\n",
    "\n",
    "- **Twitter**: @iamtrask\n",
    "- **Blog**: http://iamtrask.github.io"
   ]
  },
  {
   "cell_type": "markdown",
   "metadata": {},
   "source": []
  },
  {
   "cell_type": "code",
   "execution_count": 1,
   "metadata": {},
   "outputs": [],
   "source": [
    "import os\n",
    "import sys\n",
    "import math\n",
    "import logging\n",
    "from pathlib import Path\n",
    "import numpy as np\n",
    "\n",
    "import torch.optim as optim\n",
    "import torch\n",
    "from torchvision import transforms, models\n",
    "\n",
    "%load_ext autoreload\n",
    "%autoreload 2\n",
    "\n",
    "import matplotlib as mpl\n",
    "import matplotlib.pyplot as plt\n",
    "%matplotlib inline\n",
    "%config InlineBackend.figure_format = 'retina'\n",
    "\n",
    "import seaborn as sns\n",
    "sns.set_context(\"poster\")\n",
    "sns.set(rc={'figure.figsize': (16, 9.)})\n",
    "sns.set_style(\"whitegrid\")\n",
    "\n",
    "import pandas as pd\n",
    "pd.set_option(\"display.max_rows\", 120)\n",
    "pd.set_option(\"display.max_columns\", 120)\n",
    "\n",
    "logging.basicConfig(level=logging.INFO, stream=sys.stdout)"
   ]
  },
  {
   "cell_type": "code",
   "execution_count": 2,
   "metadata": {},
   "outputs": [],
   "source": [
    "from sentiment_analysis.sentiment import pretty_print_review_and_label, update_input_layer, get_target_for_label"
   ]
  },
  {
   "cell_type": "markdown",
   "metadata": {
    "nbpresent": {
     "id": "56bb3cba-260c-4ebe-9ed6-b995b4c72aa3"
    }
   },
   "source": [
    "# Curate a Dataset"
   ]
  },
  {
   "cell_type": "code",
   "execution_count": 3,
   "metadata": {
    "collapsed": false,
    "jupyter": {
     "outputs_hidden": false
    },
    "nbpresent": {
     "id": "eba2b193-0419-431e-8db9-60f34dd3fe83"
    }
   },
   "outputs": [],
   "source": [
    "data_path = \"../data/raw/Sentiment analysis\"\n",
    "review_path = os.path.join(data_path, 'reviews.txt')\n",
    "label_path = os.path.join(data_path, 'labels.txt')\n",
    "\n",
    "# Open reviews and labels\n",
    "g = open(review_path,'r') \n",
    "reviews = list(map(lambda x:x[:-1],g.readlines()))\n",
    "g.close()\n",
    "\n",
    "g = open(label_path,'r') \n",
    "labels = list(map(lambda x:x[:-1].upper(),g.readlines()))\n",
    "g.close()"
   ]
  },
  {
   "cell_type": "code",
   "execution_count": 4,
   "metadata": {
    "collapsed": false,
    "jupyter": {
     "outputs_hidden": false
    }
   },
   "outputs": [
    {
     "data": {
      "text/plain": [
       "25000"
      ]
     },
     "execution_count": 4,
     "metadata": {},
     "output_type": "execute_result"
    }
   ],
   "source": [
    "len(reviews)"
   ]
  },
  {
   "cell_type": "code",
   "execution_count": 5,
   "metadata": {
    "collapsed": false,
    "jupyter": {
     "outputs_hidden": false
    },
    "nbpresent": {
     "id": "bb95574b-21a0-4213-ae50-34363cf4f87f"
    }
   },
   "outputs": [
    {
     "data": {
      "text/plain": [
       "'bromwell high is a cartoon comedy . it ran at the same time as some other programs about school life  such as  teachers  . my   years in the teaching profession lead me to believe that bromwell high  s satire is much closer to reality than is  teachers  . the scramble to survive financially  the insightful students who can see right through their pathetic teachers  pomp  the pettiness of the whole situation  all remind me of the schools i knew and their students . when i saw the episode in which a student repeatedly tried to burn down the school  i immediately recalled . . . . . . . . . at . . . . . . . . . . high . a classic line inspector i  m here to sack one of your teachers . student welcome to bromwell high . i expect that many adults of my age think that bromwell high is far fetched . what a pity that it isn  t   '"
      ]
     },
     "execution_count": 5,
     "metadata": {},
     "output_type": "execute_result"
    }
   ],
   "source": [
    "reviews[0]"
   ]
  },
  {
   "cell_type": "code",
   "execution_count": 6,
   "metadata": {
    "collapsed": false,
    "jupyter": {
     "outputs_hidden": false
    },
    "nbpresent": {
     "id": "e0408810-c424-4ed4-afb9-1735e9ddbd0a"
    }
   },
   "outputs": [
    {
     "data": {
      "text/plain": [
       "'POSITIVE'"
      ]
     },
     "execution_count": 6,
     "metadata": {},
     "output_type": "execute_result"
    }
   ],
   "source": [
    "labels[0]"
   ]
  },
  {
   "cell_type": "markdown",
   "metadata": {},
   "source": [
    "# Develop a Predictive Theory"
   ]
  },
  {
   "cell_type": "code",
   "execution_count": 7,
   "metadata": {
    "collapsed": false,
    "jupyter": {
     "outputs_hidden": false
    },
    "nbpresent": {
     "id": "e67a709f-234f-4493-bae6-4fb192141ee0"
    }
   },
   "outputs": [
    {
     "name": "stdout",
     "output_type": "stream",
     "text": [
      "labels.txt \t : \t reviews.txt\n",
      "\n",
      "NEGATIVE\t:\tthis movie is terrible but it has some good effects .  ...\n",
      "POSITIVE\t:\tadrian pasdar is excellent is this film . he makes a fascinating woman .  ...\n",
      "NEGATIVE\t:\tcomment this movie is impossible . is terrible  very improbable  bad interpretat...\n",
      "POSITIVE\t:\texcellent episode movie ala pulp fiction .  days   suicides . it doesnt get more...\n",
      "NEGATIVE\t:\tif you haven  t seen this  it  s terrible . it is pure trash . i saw this about ...\n",
      "POSITIVE\t:\tthis schiffer guy is a real genius  the movie is of excellent quality and both e...\n"
     ]
    }
   ],
   "source": [
    "print(\"labels.txt \\t : \\t reviews.txt\\n\")\n",
    "pretty_print_review_and_label(2137,labels, reviews)\n",
    "pretty_print_review_and_label(12816,labels, reviews)\n",
    "pretty_print_review_and_label(6267,labels, reviews)\n",
    "pretty_print_review_and_label(21934,labels, reviews)\n",
    "pretty_print_review_and_label(5297,labels, reviews)\n",
    "pretty_print_review_and_label(4998,labels, reviews)"
   ]
  },
  {
   "cell_type": "markdown",
   "metadata": {},
   "source": [
    "# Theory Validation"
   ]
  },
  {
   "cell_type": "code",
   "execution_count": 10,
   "metadata": {},
   "outputs": [],
   "source": [
    "from collections import Counter"
   ]
  },
  {
   "cell_type": "code",
   "execution_count": 11,
   "metadata": {
    "collapsed": false,
    "jupyter": {
     "outputs_hidden": false
    }
   },
   "outputs": [],
   "source": [
    "positive_counts = Counter()\n",
    "negative_counts = Counter()\n",
    "total_counts = Counter()"
   ]
  },
  {
   "cell_type": "code",
   "execution_count": 12,
   "metadata": {
    "collapsed": false,
    "jupyter": {
     "outputs_hidden": false
    }
   },
   "outputs": [],
   "source": [
    "for i in range(len(reviews)):\n",
    "    if (labels[i] == 'POSITIVE'):\n",
    "        for word in reviews[i].split(' '):\n",
    "            positive_counts[word] += 1\n",
    "            total_counts[word] += 1\n",
    "    else:\n",
    "        for word in reviews[i].split(' '):\n",
    "            negative_counts[word] += 1\n",
    "            total_counts[word] += 1"
   ]
  },
  {
   "cell_type": "code",
   "execution_count": 13,
   "metadata": {},
   "outputs": [],
   "source": [
    "pos_neg_ratios = Counter()\n",
    "\n",
    "for term, cnt in list(total_counts.most_common()):\n",
    "    if (cnt > 300):\n",
    "        pos_neg_ratios[term] = positive_counts[term] / float(negative_counts[term] + 1)\n",
    "        \n",
    "for word, ratio in pos_neg_ratios.most_common():\n",
    "    if (ratio > 1):\n",
    "        pos_neg_ratios[word] = np.log(ratio)\n",
    "    else:\n",
    "        pos_neg_ratios[word] = -np.log((1 / (ratio + 0.01)))"
   ]
  },
  {
   "cell_type": "code",
   "execution_count": 14,
   "metadata": {
    "collapsed": false,
    "jupyter": {
     "outputs_hidden": false
    }
   },
   "outputs": [
    {
     "data": {
      "text/plain": [
       "[('wonderfully', 2.0218960560332353),\n",
       " ('beautifully', 1.7626953362841438),\n",
       " ('superb', 1.7091514458966952),\n",
       " ('touching', 1.637217476541176),\n",
       " ('stewart', 1.611998733295774),\n",
       " ('wonderful', 1.5645425925262093),\n",
       " ('fantastic', 1.5048433868558566)]"
      ]
     },
     "execution_count": 14,
     "metadata": {},
     "output_type": "execute_result"
    }
   ],
   "source": [
    "# words most frequently seen in a review with \"POSITIVE\" label\n",
    "pos_neg_ratios.most_common()[:7]"
   ]
  },
  {
   "cell_type": "code",
   "execution_count": 15,
   "metadata": {
    "collapsed": false,
    "jupyter": {
     "outputs_hidden": false
    }
   },
   "outputs": [
    {
     "data": {
      "text/plain": [
       "[('waste', -2.4907515123361046),\n",
       " ('pointless', -2.345107387713634),\n",
       " ('redeeming', -2.2667790015910296),\n",
       " ('worst', -2.1930856334332267),\n",
       " ('laughable', -2.172468615469592),\n",
       " ('awful', -2.1385076866397488),\n",
       " ('poorly', -2.132613384420701)]"
      ]
     },
     "execution_count": 15,
     "metadata": {},
     "output_type": "execute_result"
    }
   ],
   "source": [
    "# words most frequently seen in a review with a \"NEGATIVE\" label\n",
    "list(reversed(pos_neg_ratios.most_common()))[:7]"
   ]
  },
  {
   "cell_type": "code",
   "execution_count": 56,
   "metadata": {},
   "outputs": [
    {
     "data": {
      "text/html": [
       "\n",
       "    <div class=\"bk-root\">\n",
       "        <a href=\"https://bokeh.org\" target=\"_blank\" class=\"bk-logo bk-logo-small bk-logo-notebook\"></a>\n",
       "        <span id=\"1001\">Loading BokehJS ...</span>\n",
       "    </div>"
      ]
     },
     "metadata": {},
     "output_type": "display_data"
    },
    {
     "data": {
      "application/javascript": [
       "\n",
       "(function(root) {\n",
       "  function now() {\n",
       "    return new Date();\n",
       "  }\n",
       "\n",
       "  var force = true;\n",
       "\n",
       "  if (typeof root._bokeh_onload_callbacks === \"undefined\" || force === true) {\n",
       "    root._bokeh_onload_callbacks = [];\n",
       "    root._bokeh_is_loading = undefined;\n",
       "  }\n",
       "\n",
       "  var JS_MIME_TYPE = 'application/javascript';\n",
       "  var HTML_MIME_TYPE = 'text/html';\n",
       "  var EXEC_MIME_TYPE = 'application/vnd.bokehjs_exec.v0+json';\n",
       "  var CLASS_NAME = 'output_bokeh rendered_html';\n",
       "\n",
       "  /**\n",
       "   * Render data to the DOM node\n",
       "   */\n",
       "  function render(props, node) {\n",
       "    var script = document.createElement(\"script\");\n",
       "    node.appendChild(script);\n",
       "  }\n",
       "\n",
       "  /**\n",
       "   * Handle when an output is cleared or removed\n",
       "   */\n",
       "  function handleClearOutput(event, handle) {\n",
       "    var cell = handle.cell;\n",
       "\n",
       "    var id = cell.output_area._bokeh_element_id;\n",
       "    var server_id = cell.output_area._bokeh_server_id;\n",
       "    // Clean up Bokeh references\n",
       "    if (id != null && id in Bokeh.index) {\n",
       "      Bokeh.index[id].model.document.clear();\n",
       "      delete Bokeh.index[id];\n",
       "    }\n",
       "\n",
       "    if (server_id !== undefined) {\n",
       "      // Clean up Bokeh references\n",
       "      var cmd = \"from bokeh.io.state import curstate; print(curstate().uuid_to_server['\" + server_id + \"'].get_sessions()[0].document.roots[0]._id)\";\n",
       "      cell.notebook.kernel.execute(cmd, {\n",
       "        iopub: {\n",
       "          output: function(msg) {\n",
       "            var id = msg.content.text.trim();\n",
       "            if (id in Bokeh.index) {\n",
       "              Bokeh.index[id].model.document.clear();\n",
       "              delete Bokeh.index[id];\n",
       "            }\n",
       "          }\n",
       "        }\n",
       "      });\n",
       "      // Destroy server and session\n",
       "      var cmd = \"import bokeh.io.notebook as ion; ion.destroy_server('\" + server_id + \"')\";\n",
       "      cell.notebook.kernel.execute(cmd);\n",
       "    }\n",
       "  }\n",
       "\n",
       "  /**\n",
       "   * Handle when a new output is added\n",
       "   */\n",
       "  function handleAddOutput(event, handle) {\n",
       "    var output_area = handle.output_area;\n",
       "    var output = handle.output;\n",
       "\n",
       "    // limit handleAddOutput to display_data with EXEC_MIME_TYPE content only\n",
       "    if ((output.output_type != \"display_data\") || (!output.data.hasOwnProperty(EXEC_MIME_TYPE))) {\n",
       "      return\n",
       "    }\n",
       "\n",
       "    var toinsert = output_area.element.find(\".\" + CLASS_NAME.split(' ')[0]);\n",
       "\n",
       "    if (output.metadata[EXEC_MIME_TYPE][\"id\"] !== undefined) {\n",
       "      toinsert[toinsert.length - 1].firstChild.textContent = output.data[JS_MIME_TYPE];\n",
       "      // store reference to embed id on output_area\n",
       "      output_area._bokeh_element_id = output.metadata[EXEC_MIME_TYPE][\"id\"];\n",
       "    }\n",
       "    if (output.metadata[EXEC_MIME_TYPE][\"server_id\"] !== undefined) {\n",
       "      var bk_div = document.createElement(\"div\");\n",
       "      bk_div.innerHTML = output.data[HTML_MIME_TYPE];\n",
       "      var script_attrs = bk_div.children[0].attributes;\n",
       "      for (var i = 0; i < script_attrs.length; i++) {\n",
       "        toinsert[toinsert.length - 1].firstChild.setAttribute(script_attrs[i].name, script_attrs[i].value);\n",
       "        toinsert[toinsert.length - 1].firstChild.textContent = bk_div.children[0].textContent\n",
       "      }\n",
       "      // store reference to server id on output_area\n",
       "      output_area._bokeh_server_id = output.metadata[EXEC_MIME_TYPE][\"server_id\"];\n",
       "    }\n",
       "  }\n",
       "\n",
       "  function register_renderer(events, OutputArea) {\n",
       "\n",
       "    function append_mime(data, metadata, element) {\n",
       "      // create a DOM node to render to\n",
       "      var toinsert = this.create_output_subarea(\n",
       "        metadata,\n",
       "        CLASS_NAME,\n",
       "        EXEC_MIME_TYPE\n",
       "      );\n",
       "      this.keyboard_manager.register_events(toinsert);\n",
       "      // Render to node\n",
       "      var props = {data: data, metadata: metadata[EXEC_MIME_TYPE]};\n",
       "      render(props, toinsert[toinsert.length - 1]);\n",
       "      element.append(toinsert);\n",
       "      return toinsert\n",
       "    }\n",
       "\n",
       "    /* Handle when an output is cleared or removed */\n",
       "    events.on('clear_output.CodeCell', handleClearOutput);\n",
       "    events.on('delete.Cell', handleClearOutput);\n",
       "\n",
       "    /* Handle when a new output is added */\n",
       "    events.on('output_added.OutputArea', handleAddOutput);\n",
       "\n",
       "    /**\n",
       "     * Register the mime type and append_mime function with output_area\n",
       "     */\n",
       "    OutputArea.prototype.register_mime_type(EXEC_MIME_TYPE, append_mime, {\n",
       "      /* Is output safe? */\n",
       "      safe: true,\n",
       "      /* Index of renderer in `output_area.display_order` */\n",
       "      index: 0\n",
       "    });\n",
       "  }\n",
       "\n",
       "  // register the mime type if in Jupyter Notebook environment and previously unregistered\n",
       "  if (root.Jupyter !== undefined) {\n",
       "    var events = require('base/js/events');\n",
       "    var OutputArea = require('notebook/js/outputarea').OutputArea;\n",
       "\n",
       "    if (OutputArea.prototype.mime_types().indexOf(EXEC_MIME_TYPE) == -1) {\n",
       "      register_renderer(events, OutputArea);\n",
       "    }\n",
       "  }\n",
       "\n",
       "  \n",
       "  if (typeof (root._bokeh_timeout) === \"undefined\" || force === true) {\n",
       "    root._bokeh_timeout = Date.now() + 5000;\n",
       "    root._bokeh_failed_load = false;\n",
       "  }\n",
       "\n",
       "  var NB_LOAD_WARNING = {'data': {'text/html':\n",
       "     \"<div style='background-color: #fdd'>\\n\"+\n",
       "     \"<p>\\n\"+\n",
       "     \"BokehJS does not appear to have successfully loaded. If loading BokehJS from CDN, this \\n\"+\n",
       "     \"may be due to a slow or bad network connection. Possible fixes:\\n\"+\n",
       "     \"</p>\\n\"+\n",
       "     \"<ul>\\n\"+\n",
       "     \"<li>re-rerun `output_notebook()` to attempt to load from CDN again, or</li>\\n\"+\n",
       "     \"<li>use INLINE resources instead, as so:</li>\\n\"+\n",
       "     \"</ul>\\n\"+\n",
       "     \"<code>\\n\"+\n",
       "     \"from bokeh.resources import INLINE\\n\"+\n",
       "     \"output_notebook(resources=INLINE)\\n\"+\n",
       "     \"</code>\\n\"+\n",
       "     \"</div>\"}};\n",
       "\n",
       "  function display_loaded() {\n",
       "    var el = document.getElementById(\"1001\");\n",
       "    if (el != null) {\n",
       "      el.textContent = \"BokehJS is loading...\";\n",
       "    }\n",
       "    if (root.Bokeh !== undefined) {\n",
       "      if (el != null) {\n",
       "        el.textContent = \"BokehJS \" + root.Bokeh.version + \" successfully loaded.\";\n",
       "      }\n",
       "    } else if (Date.now() < root._bokeh_timeout) {\n",
       "      setTimeout(display_loaded, 100)\n",
       "    }\n",
       "  }\n",
       "\n",
       "\n",
       "  function run_callbacks() {\n",
       "    try {\n",
       "      root._bokeh_onload_callbacks.forEach(function(callback) {\n",
       "        if (callback != null)\n",
       "          callback();\n",
       "      });\n",
       "    } finally {\n",
       "      delete root._bokeh_onload_callbacks\n",
       "    }\n",
       "    console.debug(\"Bokeh: all callbacks have finished\");\n",
       "  }\n",
       "\n",
       "  function load_libs(css_urls, js_urls, callback) {\n",
       "    if (css_urls == null) css_urls = [];\n",
       "    if (js_urls == null) js_urls = [];\n",
       "\n",
       "    root._bokeh_onload_callbacks.push(callback);\n",
       "    if (root._bokeh_is_loading > 0) {\n",
       "      console.debug(\"Bokeh: BokehJS is being loaded, scheduling callback at\", now());\n",
       "      return null;\n",
       "    }\n",
       "    if (js_urls == null || js_urls.length === 0) {\n",
       "      run_callbacks();\n",
       "      return null;\n",
       "    }\n",
       "    console.debug(\"Bokeh: BokehJS not loaded, scheduling load and callback at\", now());\n",
       "    root._bokeh_is_loading = css_urls.length + js_urls.length;\n",
       "\n",
       "    function on_load() {\n",
       "      root._bokeh_is_loading--;\n",
       "      if (root._bokeh_is_loading === 0) {\n",
       "        console.debug(\"Bokeh: all BokehJS libraries/stylesheets loaded\");\n",
       "        run_callbacks()\n",
       "      }\n",
       "    }\n",
       "\n",
       "    function on_error() {\n",
       "      console.error(\"failed to load \" + url);\n",
       "    }\n",
       "\n",
       "    for (var i = 0; i < css_urls.length; i++) {\n",
       "      var url = css_urls[i];\n",
       "      const element = document.createElement(\"link\");\n",
       "      element.onload = on_load;\n",
       "      element.onerror = on_error;\n",
       "      element.rel = \"stylesheet\";\n",
       "      element.type = \"text/css\";\n",
       "      element.href = url;\n",
       "      console.debug(\"Bokeh: injecting link tag for BokehJS stylesheet: \", url);\n",
       "      document.body.appendChild(element);\n",
       "    }\n",
       "\n",
       "    const hashes = {\"https://cdn.bokeh.org/bokeh/release/bokeh-2.0.2.min.js\": \"ufR9RFnRs6lniiaFvtJziE0YeidtAgBRH6ux2oUItHw5WTvE1zuk9uzhUU/FJXDp\", \"https://cdn.bokeh.org/bokeh/release/bokeh-widgets-2.0.2.min.js\": \"8QM/PGWBT+IssZuRcDcjzwIh1mkOmJSoNMmyYDZbCfXJg3Ap1lEvdVgFuSAwhb/J\", \"https://cdn.bokeh.org/bokeh/release/bokeh-tables-2.0.2.min.js\": \"Jm8cH3Rg0P6UeZhVY5cLy1WzKajUT9KImCY+76hEqrcJt59/d8GPvFHjCkYgnSIn\", \"https://cdn.bokeh.org/bokeh/release/bokeh-gl-2.0.2.min.js\": \"Ozhzj+SI7ywm74aOI/UajcWz+C0NjsPunEVyVIrxzYkB+jA+2tUw8x5xJCbVtK5I\"};\n",
       "\n",
       "    for (var i = 0; i < js_urls.length; i++) {\n",
       "      var url = js_urls[i];\n",
       "      var element = document.createElement('script');\n",
       "      element.onload = on_load;\n",
       "      element.onerror = on_error;\n",
       "      element.async = false;\n",
       "      element.src = url;\n",
       "      if (url in hashes) {\n",
       "        element.crossOrigin = \"anonymous\";\n",
       "        element.integrity = \"sha384-\" + hashes[url];\n",
       "      }\n",
       "      console.debug(\"Bokeh: injecting script tag for BokehJS library: \", url);\n",
       "      document.head.appendChild(element);\n",
       "    }\n",
       "  };\n",
       "\n",
       "  function inject_raw_css(css) {\n",
       "    const element = document.createElement(\"style\");\n",
       "    element.appendChild(document.createTextNode(css));\n",
       "    document.body.appendChild(element);\n",
       "  }\n",
       "\n",
       "  \n",
       "  var js_urls = [\"https://cdn.bokeh.org/bokeh/release/bokeh-2.0.2.min.js\", \"https://cdn.bokeh.org/bokeh/release/bokeh-widgets-2.0.2.min.js\", \"https://cdn.bokeh.org/bokeh/release/bokeh-tables-2.0.2.min.js\", \"https://cdn.bokeh.org/bokeh/release/bokeh-gl-2.0.2.min.js\"];\n",
       "  var css_urls = [];\n",
       "  \n",
       "\n",
       "  var inline_js = [\n",
       "    function(Bokeh) {\n",
       "      Bokeh.set_log_level(\"info\");\n",
       "    },\n",
       "    function(Bokeh) {\n",
       "    \n",
       "    \n",
       "    }\n",
       "  ];\n",
       "\n",
       "  function run_inline_js() {\n",
       "    \n",
       "    if (root.Bokeh !== undefined || force === true) {\n",
       "      \n",
       "    for (var i = 0; i < inline_js.length; i++) {\n",
       "      inline_js[i].call(root, root.Bokeh);\n",
       "    }\n",
       "    if (force === true) {\n",
       "        display_loaded();\n",
       "      }} else if (Date.now() < root._bokeh_timeout) {\n",
       "      setTimeout(run_inline_js, 100);\n",
       "    } else if (!root._bokeh_failed_load) {\n",
       "      console.log(\"Bokeh: BokehJS failed to load within specified timeout.\");\n",
       "      root._bokeh_failed_load = true;\n",
       "    } else if (force !== true) {\n",
       "      var cell = $(document.getElementById(\"1001\")).parents('.cell').data().cell;\n",
       "      cell.output_area.append_execute_result(NB_LOAD_WARNING)\n",
       "    }\n",
       "\n",
       "  }\n",
       "\n",
       "  if (root._bokeh_is_loading === 0) {\n",
       "    console.debug(\"Bokeh: BokehJS loaded, going straight to plotting\");\n",
       "    run_inline_js();\n",
       "  } else {\n",
       "    load_libs(css_urls, js_urls, function() {\n",
       "      console.debug(\"Bokeh: BokehJS plotting callback run at\", now());\n",
       "      run_inline_js();\n",
       "    });\n",
       "  }\n",
       "}(window));"
      ],
      "application/vnd.bokehjs_load.v0+json": "\n(function(root) {\n  function now() {\n    return new Date();\n  }\n\n  var force = true;\n\n  if (typeof root._bokeh_onload_callbacks === \"undefined\" || force === true) {\n    root._bokeh_onload_callbacks = [];\n    root._bokeh_is_loading = undefined;\n  }\n\n  \n\n  \n  if (typeof (root._bokeh_timeout) === \"undefined\" || force === true) {\n    root._bokeh_timeout = Date.now() + 5000;\n    root._bokeh_failed_load = false;\n  }\n\n  var NB_LOAD_WARNING = {'data': {'text/html':\n     \"<div style='background-color: #fdd'>\\n\"+\n     \"<p>\\n\"+\n     \"BokehJS does not appear to have successfully loaded. If loading BokehJS from CDN, this \\n\"+\n     \"may be due to a slow or bad network connection. Possible fixes:\\n\"+\n     \"</p>\\n\"+\n     \"<ul>\\n\"+\n     \"<li>re-rerun `output_notebook()` to attempt to load from CDN again, or</li>\\n\"+\n     \"<li>use INLINE resources instead, as so:</li>\\n\"+\n     \"</ul>\\n\"+\n     \"<code>\\n\"+\n     \"from bokeh.resources import INLINE\\n\"+\n     \"output_notebook(resources=INLINE)\\n\"+\n     \"</code>\\n\"+\n     \"</div>\"}};\n\n  function display_loaded() {\n    var el = document.getElementById(\"1001\");\n    if (el != null) {\n      el.textContent = \"BokehJS is loading...\";\n    }\n    if (root.Bokeh !== undefined) {\n      if (el != null) {\n        el.textContent = \"BokehJS \" + root.Bokeh.version + \" successfully loaded.\";\n      }\n    } else if (Date.now() < root._bokeh_timeout) {\n      setTimeout(display_loaded, 100)\n    }\n  }\n\n\n  function run_callbacks() {\n    try {\n      root._bokeh_onload_callbacks.forEach(function(callback) {\n        if (callback != null)\n          callback();\n      });\n    } finally {\n      delete root._bokeh_onload_callbacks\n    }\n    console.debug(\"Bokeh: all callbacks have finished\");\n  }\n\n  function load_libs(css_urls, js_urls, callback) {\n    if (css_urls == null) css_urls = [];\n    if (js_urls == null) js_urls = [];\n\n    root._bokeh_onload_callbacks.push(callback);\n    if (root._bokeh_is_loading > 0) {\n      console.debug(\"Bokeh: BokehJS is being loaded, scheduling callback at\", now());\n      return null;\n    }\n    if (js_urls == null || js_urls.length === 0) {\n      run_callbacks();\n      return null;\n    }\n    console.debug(\"Bokeh: BokehJS not loaded, scheduling load and callback at\", now());\n    root._bokeh_is_loading = css_urls.length + js_urls.length;\n\n    function on_load() {\n      root._bokeh_is_loading--;\n      if (root._bokeh_is_loading === 0) {\n        console.debug(\"Bokeh: all BokehJS libraries/stylesheets loaded\");\n        run_callbacks()\n      }\n    }\n\n    function on_error() {\n      console.error(\"failed to load \" + url);\n    }\n\n    for (var i = 0; i < css_urls.length; i++) {\n      var url = css_urls[i];\n      const element = document.createElement(\"link\");\n      element.onload = on_load;\n      element.onerror = on_error;\n      element.rel = \"stylesheet\";\n      element.type = \"text/css\";\n      element.href = url;\n      console.debug(\"Bokeh: injecting link tag for BokehJS stylesheet: \", url);\n      document.body.appendChild(element);\n    }\n\n    const hashes = {\"https://cdn.bokeh.org/bokeh/release/bokeh-2.0.2.min.js\": \"ufR9RFnRs6lniiaFvtJziE0YeidtAgBRH6ux2oUItHw5WTvE1zuk9uzhUU/FJXDp\", \"https://cdn.bokeh.org/bokeh/release/bokeh-widgets-2.0.2.min.js\": \"8QM/PGWBT+IssZuRcDcjzwIh1mkOmJSoNMmyYDZbCfXJg3Ap1lEvdVgFuSAwhb/J\", \"https://cdn.bokeh.org/bokeh/release/bokeh-tables-2.0.2.min.js\": \"Jm8cH3Rg0P6UeZhVY5cLy1WzKajUT9KImCY+76hEqrcJt59/d8GPvFHjCkYgnSIn\", \"https://cdn.bokeh.org/bokeh/release/bokeh-gl-2.0.2.min.js\": \"Ozhzj+SI7ywm74aOI/UajcWz+C0NjsPunEVyVIrxzYkB+jA+2tUw8x5xJCbVtK5I\"};\n\n    for (var i = 0; i < js_urls.length; i++) {\n      var url = js_urls[i];\n      var element = document.createElement('script');\n      element.onload = on_load;\n      element.onerror = on_error;\n      element.async = false;\n      element.src = url;\n      if (url in hashes) {\n        element.crossOrigin = \"anonymous\";\n        element.integrity = \"sha384-\" + hashes[url];\n      }\n      console.debug(\"Bokeh: injecting script tag for BokehJS library: \", url);\n      document.head.appendChild(element);\n    }\n  };\n\n  function inject_raw_css(css) {\n    const element = document.createElement(\"style\");\n    element.appendChild(document.createTextNode(css));\n    document.body.appendChild(element);\n  }\n\n  \n  var js_urls = [\"https://cdn.bokeh.org/bokeh/release/bokeh-2.0.2.min.js\", \"https://cdn.bokeh.org/bokeh/release/bokeh-widgets-2.0.2.min.js\", \"https://cdn.bokeh.org/bokeh/release/bokeh-tables-2.0.2.min.js\", \"https://cdn.bokeh.org/bokeh/release/bokeh-gl-2.0.2.min.js\"];\n  var css_urls = [];\n  \n\n  var inline_js = [\n    function(Bokeh) {\n      Bokeh.set_log_level(\"info\");\n    },\n    function(Bokeh) {\n    \n    \n    }\n  ];\n\n  function run_inline_js() {\n    \n    if (root.Bokeh !== undefined || force === true) {\n      \n    for (var i = 0; i < inline_js.length; i++) {\n      inline_js[i].call(root, root.Bokeh);\n    }\n    if (force === true) {\n        display_loaded();\n      }} else if (Date.now() < root._bokeh_timeout) {\n      setTimeout(run_inline_js, 100);\n    } else if (!root._bokeh_failed_load) {\n      console.log(\"Bokeh: BokehJS failed to load within specified timeout.\");\n      root._bokeh_failed_load = true;\n    } else if (force !== true) {\n      var cell = $(document.getElementById(\"1001\")).parents('.cell').data().cell;\n      cell.output_area.append_execute_result(NB_LOAD_WARNING)\n    }\n\n  }\n\n  if (root._bokeh_is_loading === 0) {\n    console.debug(\"Bokeh: BokehJS loaded, going straight to plotting\");\n    run_inline_js();\n  } else {\n    load_libs(css_urls, js_urls, function() {\n      console.debug(\"Bokeh: BokehJS plotting callback run at\", now());\n      run_inline_js();\n    });\n  }\n}(window));"
     },
     "metadata": {},
     "output_type": "display_data"
    }
   ],
   "source": [
    "from bokeh.models import ColumnDataSource, LabelSet\n",
    "from bokeh.plotting import figure, show, output_file\n",
    "from bokeh.io import output_notebook\n",
    "output_notebook()"
   ]
  },
  {
   "cell_type": "code",
   "execution_count": 57,
   "metadata": {},
   "outputs": [
    {
     "name": "stderr",
     "output_type": "stream",
     "text": [
      "C:\\Users\\hidalg89\\AppData\\Roaming\\Python\\Python37\\site-packages\\ipykernel_launcher.py:1: DeprecationWarning: The normed argument is ignored when density is provided. In future passing both will result in an error.\n",
      "  \"\"\"Entry point for launching an IPython kernel.\n"
     ]
    },
    {
     "data": {
      "text/html": [
       "\n",
       "\n",
       "\n",
       "\n",
       "\n",
       "\n",
       "  <div class=\"bk-root\" id=\"5d912856-ef4b-4ade-9462-a309afe784db\" data-root-id=\"1002\"></div>\n"
      ]
     },
     "metadata": {},
     "output_type": "display_data"
    },
    {
     "data": {
      "application/javascript": [
       "(function(root) {\n",
       "  function embed_document(root) {\n",
       "    \n",
       "  var docs_json = {\"2304fc8d-83d1-4928-993a-cbb2d24d5e65\":{\"roots\":{\"references\":[{\"attributes\":{\"below\":[{\"id\":\"1013\"}],\"center\":[{\"id\":\"1016\"},{\"id\":\"1020\"}],\"left\":[{\"id\":\"1017\"}],\"renderers\":[{\"id\":\"1033\"}],\"title\":{\"id\":\"1003\"},\"toolbar\":{\"id\":\"1025\"},\"toolbar_location\":\"above\",\"x_range\":{\"id\":\"1005\"},\"x_scale\":{\"id\":\"1009\"},\"y_range\":{\"id\":\"1007\"},\"y_scale\":{\"id\":\"1011\"}},\"id\":\"1002\",\"subtype\":\"Figure\",\"type\":\"Plot\"},{\"attributes\":{},\"id\":\"1014\",\"type\":\"BasicTicker\"},{\"attributes\":{\"bottom\":{\"value\":0},\"fill_alpha\":{\"value\":0.1},\"fill_color\":{\"value\":\"#1f77b4\"},\"left\":{\"field\":\"left\"},\"line_alpha\":{\"value\":0.1},\"line_color\":{\"value\":\"#555555\"},\"right\":{\"field\":\"right\"},\"top\":{\"field\":\"top\"}},\"id\":\"1032\",\"type\":\"Quad\"},{\"attributes\":{\"axis\":{\"id\":\"1013\"},\"ticker\":null},\"id\":\"1016\",\"type\":\"Grid\"},{\"attributes\":{\"formatter\":{\"id\":\"1036\"},\"ticker\":{\"id\":\"1018\"}},\"id\":\"1017\",\"type\":\"LinearAxis\"},{\"attributes\":{},\"id\":\"1018\",\"type\":\"BasicTicker\"},{\"attributes\":{\"active_drag\":\"auto\",\"active_inspect\":\"auto\",\"active_multi\":null,\"active_scroll\":\"auto\",\"active_tap\":\"auto\",\"tools\":[{\"id\":\"1021\"},{\"id\":\"1022\"},{\"id\":\"1023\"},{\"id\":\"1024\"}]},\"id\":\"1025\",\"type\":\"Toolbar\"},{\"attributes\":{\"data\":{\"left\":{\"__ndarray__\":\"opH/IA/tA8B1m/Xbo5ADwEml65Y4NAPAHK/hUc3XAsDvuNcMYnsCwMPCzcf2HgLAlszDgovCAcBp1rk9IGYBwDzgr/i0CQHAEOqls0mtAMDj85tu3lAAwG37I1Pm6P+/FA8QyQ8w/7+6Ivw+OXf+v2E26LRivv2/CErUKowF/b+uXcCgtUz8v1RxrBbfk/u/+4SYjAjb+r+imIQCMiL6v0iscHhbafm/779c7oSw+L+W00hkrvf3vzznNNrXPve/4/ogUAGG9r+KDg3GKs31vzAi+TtUFPW/1zXlsX1b9L9+SdEnp6LzvyRdvZ3Q6fK/y3CpE/ow8r9xhJWJI3jxvxiYgf9Mv/C/v6ttdXYG8L/KfrPWP5vuvximi8KSKe2/ZM1jruW367+y9DuaOEbqvwAcFIaL1Oi/TEPscd5i57+aasRdMfHlv+iRnEmEf+S/NLl0NdcN47+C4EwhKpzhv9AHJQ19KuC/OF768Z9x3b/QrKrJRY7av3D7WqHrqte/CEoLeZHH1L+gmLtQN+TRv4DO11C6Ac6/sGs4AAY7yL/gCJmvUXTCv0BM8706W7m/QA1pOaSbq78ACK7bSwOCvwAJkkv+maI/IMoHx2fatD/gRyM06DPAP7CqwoSc+sU/cA1i1VDByz8guACTAsTQP4hpULtcp9M/6Bqg47aK1j9QzO8LEW7ZP7h9PzRrUdw/GC+PXMU03z9AcG/CDwzhP/RIl9a8feI/pCG/6mnv4z9Y+ub+FmHlPwzTDhPE0uY/wKs2J3FE6D9whF47HrbpPyRdhk/LJ+s/2DWuY3iZ7D+IDtZ3JQvuPzzn/YvSfO8/+N8S0D938D9QzCZaFjDxP6q4OuTs6PE/BKVObsOh8j9ckWL4mVrzP7Z9doJwE/Q/EGqKDEfM9D9oVp6WHYX1P8JCsiD0PfY/HC/Gqsr29j90G9o0oa/3P9AH7r53aPg/KPQBSU4h+T+A4BXTJNr5P9zMKV37kvo/NLk959FL+z+MpVFxqAT8P+iRZft+vfw/QH55hVV2/T+Yao0PLC/+P/RWoZkC6P4/TEO1I9mg/z8=\",\"dtype\":\"float64\",\"shape\":[100]},\"right\":{\"__ndarray__\":\"dZv126OQA8BJpeuWODQDwByv4VHN1wLA77jXDGJ7AsDDws3H9h4CwJbMw4KLwgHAada5PSBmAcA84K/4tAkBwBDqpbNJrQDA4/Obbt5QAMBt+yNT5uj/vxQPEMkPMP+/uiL8Pjl3/r9hNui0Yr79vwhK1CqMBf2/rl3AoLVM/L9UcawW35P7v/uEmIwI2/q/opiEAjIi+r9IrHB4W2n5v++/XO6EsPi/ltNIZK7397885zTa1z73v+P6IFABhva/ig4NxirN9b8wIvk7VBT1v9c15bF9W/S/fknRJ6ei878kXb2d0Onyv8twqRP6MPK/cYSViSN48b8YmIH/TL/wv7+rbXV2BvC/yn6z1j+b7r8YpovCkintv2TNY67lt+u/svQ7mjhG6r8AHBSGi9Tov0xD7HHeYue/mmrEXTHx5b/okZxJhH/kvzS5dDXXDeO/guBMISqc4b/QByUNfSrgvzhe+vGfcd2/0KyqyUWO2r9w+1qh66rXvwhKC3mRx9S/oJi7UDfk0b+AztdQugHOv7BrOAAGO8i/4AiZr1F0wr9ATPO9Olu5v0ANaTmkm6u/AAiu20sDgr8ACZJL/pmiPyDKB8dn2rQ/4EcjNOgzwD+wqsKEnPrFP3ANYtVQwcs/ILgAkwLE0D+IaVC7XKfTP+gaoOO2itY/UMzvCxFu2T+4fT80a1HcPxgvj1zFNN8/QHBvwg8M4T/0SJfWvH3iP6Qhv+pp7+M/WPrm/hZh5T8M0w4TxNLmP8CrNidxROg/cIReOx626T8kXYZPyyfrP9g1rmN4mew/iA7WdyUL7j885/2L0nzvP/jfEtA/d/A/UMwmWhYw8T+quDrk7OjxPwSlTm7DofI/XJFi+Jla8z+2fXaCcBP0PxBqigxHzPQ/aFaelh2F9T/CQrIg9D32PxwvxqrK9vY/dBvaNKGv9z/QB+6+d2j4Pyj0AUlOIfk/gOAV0yTa+T/czCld+5L6PzS5PefRS/s/jKVRcagE/D/okWX7fr38P0B+eYVVdv0/mGqNDywv/j/0VqGZAuj+P0xDtSPZoP8/0Zfk1tcsAEA=\",\"dtype\":\"float64\",\"shape\":[100]},\"top\":{\"__ndarray__\":\"TTagK2PniT8AAAAAAAAAAAAAAAAAAAAATTagK2PniT+UNqArY+eJPwAAAAAAAAAATTagK2PniT+6KLhgim2jPwAAAAAAAAAAAAAAAAAAAAAAAAAAAAAAAAAAAAAAAAAATTagK2PniT8AAAAAAAAAAHE2oCtj55k/TTagK2PniT9NNqArY+eJP3E2oCtj55k/1Si4YIptoz9NNqArY+eJPwAAAAAAAAAA1Si4YIptoz+6KLhgim2jP3E2oCtj54k/cTagK2PnmT9NNqArY+eZP9UouGCKbbM/cTagK2PnqT9NNqArY+epPwAAAAAAAAAATTagK2PniT/VKLhgim2jPwYiRPudMLA/TTagK2PnuT+iLyzGdqq2P7oouGCKbaM/Pz0UkU8kvT8/PRSRTyS9P7oouGCKbcM/PCxykwAMxT+iLyzGdqrGP+ky5vjsSMg/CzPm+OxIyD8LM+b47EjYP7oouGCKbdM/bSoVesU81D/CLyzGdqrWPy6mrLqxNuI/6TLm+OxI6D+spE+hdmfhP5o0QxIoGOk/XWKbwWxk8D8zrSAgnnPlP4u6COt27es/VcF8UGMq7z/KqWbtJ9XzP/AhRPudMPA/CCdbR0+e8j98QM7DxcLuP2+3TrgAT+o/i7oI63bt6z+aNEMSKBjpPwa0lIWKsOg/ADj9RJ626j+rrn052ULmP7M7t3cUVdw/LqasurE24j8eLHKTAAzVP/85Wl7Zhcs/oiOhFNn/0D+iI6EU2f/QP002oCtj58k/wi8sxnaqtj8XPRSRTyS9Pxc9FJFPJL0/lDagK2PnuT+6KLhgim3DP4QvLMZ2qrY/8Ci4YIptoz+ELyzGdqq2P002oCtj56k/8Ci4YIptoz+6KLhgim2zP7oouGCKbaM/lDagK2PniT9NNqArY+eJP002oCtj55k/lDagK2PniT8GNqArY+epP5Q2oCtj54k/lDagK2PniT8GNqArY+eJPwAAAAAAAAAAlDagK2PniT8GNqArY+eJPwAAAAAAAAAAAAAAAAAAAAAAAAAAAAAAAAAAAAAAAAAA3TagK2PniT8=\",\"dtype\":\"float64\",\"shape\":[100]}},\"selected\":{\"id\":\"1040\"},\"selection_policy\":{\"id\":\"1041\"}},\"id\":\"1030\",\"type\":\"ColumnDataSource\"},{\"attributes\":{\"source\":{\"id\":\"1030\"}},\"id\":\"1034\",\"type\":\"CDSView\"},{\"attributes\":{\"axis\":{\"id\":\"1017\"},\"dimension\":1,\"ticker\":null},\"id\":\"1020\",\"type\":\"Grid\"},{\"attributes\":{},\"id\":\"1036\",\"type\":\"BasicTickFormatter\"},{\"attributes\":{},\"id\":\"1021\",\"type\":\"PanTool\"},{\"attributes\":{},\"id\":\"1040\",\"type\":\"Selection\"},{\"attributes\":{},\"id\":\"1041\",\"type\":\"UnionRenderers\"},{\"attributes\":{},\"id\":\"1038\",\"type\":\"BasicTickFormatter\"},{\"attributes\":{},\"id\":\"1005\",\"type\":\"DataRange1d\"},{\"attributes\":{},\"id\":\"1022\",\"type\":\"WheelZoomTool\"},{\"attributes\":{},\"id\":\"1023\",\"type\":\"ResetTool\"},{\"attributes\":{\"text\":\"Word Positive/Negative Affinity Distribution\"},\"id\":\"1003\",\"type\":\"Title\"},{\"attributes\":{},\"id\":\"1007\",\"type\":\"DataRange1d\"},{\"attributes\":{},\"id\":\"1024\",\"type\":\"SaveTool\"},{\"attributes\":{\"bottom\":{\"value\":0},\"fill_color\":{\"value\":\"#1f77b4\"},\"left\":{\"field\":\"left\"},\"line_color\":{\"value\":\"#555555\"},\"right\":{\"field\":\"right\"},\"top\":{\"field\":\"top\"}},\"id\":\"1031\",\"type\":\"Quad\"},{\"attributes\":{\"formatter\":{\"id\":\"1038\"},\"ticker\":{\"id\":\"1014\"}},\"id\":\"1013\",\"type\":\"LinearAxis\"},{\"attributes\":{},\"id\":\"1009\",\"type\":\"LinearScale\"},{\"attributes\":{},\"id\":\"1011\",\"type\":\"LinearScale\"},{\"attributes\":{\"data_source\":{\"id\":\"1030\"},\"glyph\":{\"id\":\"1031\"},\"hover_glyph\":null,\"muted_glyph\":null,\"nonselection_glyph\":{\"id\":\"1032\"},\"selection_glyph\":null,\"view\":{\"id\":\"1034\"}},\"id\":\"1033\",\"type\":\"GlyphRenderer\"}],\"root_ids\":[\"1002\"]},\"title\":\"Bokeh Application\",\"version\":\"2.0.2\"}};\n",
       "  var render_items = [{\"docid\":\"2304fc8d-83d1-4928-993a-cbb2d24d5e65\",\"root_ids\":[\"1002\"],\"roots\":{\"1002\":\"5d912856-ef4b-4ade-9462-a309afe784db\"}}];\n",
       "  root.Bokeh.embed.embed_items_notebook(docs_json, render_items);\n",
       "\n",
       "  }\n",
       "  if (root.Bokeh !== undefined) {\n",
       "    embed_document(root);\n",
       "  } else {\n",
       "    var attempts = 0;\n",
       "    var timer = setInterval(function(root) {\n",
       "      if (root.Bokeh !== undefined) {\n",
       "        clearInterval(timer);\n",
       "        embed_document(root);\n",
       "      } else {\n",
       "        attempts++;\n",
       "        if (attempts > 100) {\n",
       "          clearInterval(timer);\n",
       "          console.log(\"Bokeh: ERROR: Unable to run BokehJS code because BokehJS library is missing\");\n",
       "        }\n",
       "      }\n",
       "    }, 10, root)\n",
       "  }\n",
       "})(window);"
      ],
      "application/vnd.bokehjs_exec.v0+json": ""
     },
     "metadata": {
      "application/vnd.bokehjs_exec.v0+json": {
       "id": "1002"
      }
     },
     "output_type": "display_data"
    }
   ],
   "source": [
    "hist, edges = np.histogram(list(map(lambda x:x[1],pos_neg_ratios.most_common())), density=True, bins=100, normed=True)\n",
    "\n",
    "p = figure(tools=\"pan,wheel_zoom,reset,save\",\n",
    "           toolbar_location=\"above\",\n",
    "           title=\"Word Positive/Negative Affinity Distribution\")\n",
    "p.quad(top=hist, bottom=0, left=edges[:-1], right=edges[1:], line_color=\"#555555\")\n",
    "show(p)"
   ]
  },
  {
   "cell_type": "code",
   "execution_count": 58,
   "metadata": {},
   "outputs": [],
   "source": [
    "frequency_frequency = Counter()\n",
    "\n",
    "for word, cnt in total_counts.most_common():\n",
    "    frequency_frequency[cnt] += 1"
   ]
  },
  {
   "cell_type": "code",
   "execution_count": 59,
   "metadata": {},
   "outputs": [
    {
     "name": "stderr",
     "output_type": "stream",
     "text": [
      "C:\\Users\\hidalg89\\AppData\\Roaming\\Python\\Python37\\site-packages\\ipykernel_launcher.py:1: DeprecationWarning: The normed argument is ignored when density is provided. In future passing both will result in an error.\n",
      "  \"\"\"Entry point for launching an IPython kernel.\n"
     ]
    },
    {
     "data": {
      "text/html": [
       "\n",
       "\n",
       "\n",
       "\n",
       "\n",
       "\n",
       "  <div class=\"bk-root\" id=\"91421f2f-3997-4f5c-8f7e-30fdf1335e6e\" data-root-id=\"1084\"></div>\n"
      ]
     },
     "metadata": {},
     "output_type": "display_data"
    },
    {
     "data": {
      "application/javascript": [
       "(function(root) {\n",
       "  function embed_document(root) {\n",
       "    \n",
       "  var docs_json = {\"16ef8718-c5a8-4bf8-b9dd-359b7bae8dbb\":{\"roots\":{\"references\":[{\"attributes\":{\"below\":[{\"id\":\"1095\"}],\"center\":[{\"id\":\"1098\"},{\"id\":\"1102\"}],\"left\":[{\"id\":\"1099\"}],\"renderers\":[{\"id\":\"1115\"}],\"title\":{\"id\":\"1085\"},\"toolbar\":{\"id\":\"1107\"},\"toolbar_location\":\"above\",\"x_range\":{\"id\":\"1087\"},\"x_scale\":{\"id\":\"1091\"},\"y_range\":{\"id\":\"1089\"},\"y_scale\":{\"id\":\"1093\"}},\"id\":\"1084\",\"subtype\":\"Figure\",\"type\":\"Plot\"},{\"attributes\":{},\"id\":\"1093\",\"type\":\"LinearScale\"},{\"attributes\":{},\"id\":\"1096\",\"type\":\"BasicTicker\"},{\"attributes\":{},\"id\":\"1125\",\"type\":\"BasicTickFormatter\"},{\"attributes\":{\"axis\":{\"id\":\"1099\"},\"dimension\":1,\"ticker\":null},\"id\":\"1102\",\"type\":\"Grid\"},{\"attributes\":{},\"id\":\"1104\",\"type\":\"WheelZoomTool\"},{\"attributes\":{\"data\":{\"left\":{\"__ndarray__\":\"AAAAAAAA8D/NzMzMzFhxQM3MzMzMUIFANDMzMzP1iUDNzMzMzEyRQAAAAAAAn5VANDMzMzPxmUBnZmZmZkOeQM3MzMzMSqFAZ2ZmZuZzo0AAAAAAAJ2lQJqZmZkZxqdANDMzMzPvqUDNzMzMTBisQGdmZmZmQa5AAAAAAEA1sEDNzMzMzEmxQJqZmZlZXrJAZ2ZmZuZys0AzMzMzc4e0QAAAAAAAnLVAzczMzIywtkCamZmZGcW3QGdmZmam2bhANDMzMzPuuUAAAAAAwAK7QM3MzMxMF7xAmpmZmdkrvUBnZmZmZkC+QDQzMzPzVL9AAAAAAMA0wEBnZmZmBr/AQM3MzMxMScFAMzMzM5PTwUCamZmZ2V3CQAAAAAAg6MJAZ2ZmZmZyw0DNzMzMrPzDQDMzMzPzhsRAmpmZmTkRxUAAAAAAgJvFQGdmZmbGJcZAzczMzAywxkAzMzMzUzrHQJqZmZmZxMdAAAAAAOBOyEBnZmZmJtnIQM3MzMxsY8lANDMzM7PtyUCamZmZ+XfKQAAAAABAAstAZ2ZmZoaMy0DNzMzMzBbMQDQzMzMTocxAmpmZmVkrzUAAAAAAoLXNQGdmZmbmP85AzczMzCzKzkA0MzMzc1TPQJqZmZm53s9AAAAAAIA00EAzMzMzo3nQQGdmZmbGvtBAmpmZmekD0UDNzMzMDEnRQAAAAAAwjtFAMzMzM1PT0UBnZmZmdhjSQJqZmZmZXdJAzczMzLyi0kAAAAAA4OfSQDMzMzMDLdNAZ2ZmZiZy00CamZmZSbfTQM3MzMxs/NNAAAAAAJBB1EAzMzMzs4bUQGdmZmbWy9RAmpmZmfkQ1UDNzMzMHFbVQAAAAABAm9VAMzMzM2Pg1UBnZmZmhiXWQJqZmZmpatZAzczMzMyv1kAAAAAA8PTWQDMzMzMTOtdAZ2ZmZjZ/10CamZmZWcTXQM3MzMx8CdhAAAAAAKBO2EAzMzMzw5PYQGdmZmbm2NhAmpmZmQke2UDNzMzMLGPZQAAAAABQqNlANDMzM3Pt2UBnZmZmljLaQJqZmZm5d9pAzczMzNy82kA=\",\"dtype\":\"float64\",\"shape\":[100]},\"right\":{\"__ndarray__\":\"zczMzMxYcUDNzMzMzFCBQDQzMzMz9YlAzczMzMxMkUAAAAAAAJ+VQDQzMzMz8ZlAZ2ZmZmZDnkDNzMzMzEqhQGdmZmbmc6NAAAAAAACdpUCamZmZGcanQDQzMzMz76lAzczMzEwYrEBnZmZmZkGuQAAAAABANbBAzczMzMxJsUCamZmZWV6yQGdmZmbmcrNAMzMzM3OHtEAAAAAAAJy1QM3MzMyMsLZAmpmZmRnFt0BnZmZmptm4QDQzMzMz7rlAAAAAAMACu0DNzMzMTBe8QJqZmZnZK71AZ2ZmZmZAvkA0MzMz81S/QAAAAADANMBAZ2ZmZga/wEDNzMzMTEnBQDMzMzOT08FAmpmZmdldwkAAAAAAIOjCQGdmZmZmcsNAzczMzKz8w0AzMzMz84bEQJqZmZk5EcVAAAAAAICbxUBnZmZmxiXGQM3MzMwMsMZAMzMzM1M6x0CamZmZmcTHQAAAAADgTshAZ2ZmZibZyEDNzMzMbGPJQDQzMzOz7clAmpmZmfl3ykAAAAAAQALLQGdmZmaGjMtAzczMzMwWzEA0MzMzE6HMQJqZmZlZK81AAAAAAKC1zUBnZmZm5j/OQM3MzMwsys5ANDMzM3NUz0CamZmZud7PQAAAAACANNBAMzMzM6N50EBnZmZmxr7QQJqZmZnpA9FAzczMzAxJ0UAAAAAAMI7RQDMzMzNT09FAZ2ZmZnYY0kCamZmZmV3SQM3MzMy8otJAAAAAAODn0kAzMzMzAy3TQGdmZmYmctNAmpmZmUm300DNzMzMbPzTQAAAAACQQdRAMzMzM7OG1EBnZmZm1svUQJqZmZn5ENVAzczMzBxW1UAAAAAAQJvVQDMzMzNj4NVAZ2ZmZoYl1kCamZmZqWrWQM3MzMzMr9ZAAAAAAPD01kAzMzMzEzrXQGdmZmY2f9dAmpmZmVnE10DNzMzMfAnYQAAAAACgTthAMzMzM8OT2EBnZmZm5tjYQJqZmZkJHtlAzczMzCxj2UAAAAAAUKjZQDQzMzNz7dlAZ2ZmZpYy2kCamZmZuXfaQM3MzMzcvNpAAAAAAAAC20A=\",\"dtype\":\"float64\",\"shape\":[100]},\"top\":{\"__ndarray__\":\"TDhFg5YVbT+JTZDME4n7PtMKDQpDB+Y+1QoNCkMH1j7VCg0KQwfWPgAAAAAAAAAA1QoNCkMHxj7VCg0KQwfGPgAAAAAAAAAA2goNCkMHxj4AAAAAAAAAAAAAAAAAAAAA2goNCkMHxj4AAAAAAAAAAAAAAAAAAAAAAAAAAAAAAAAAAAAAAAAAAAAAAAAAAAAA5QoNCkMHxj4AAAAAAAAAAAAAAAAAAAAAAAAAAAAAAAAAAAAAAAAAAAAAAAAAAAAAAAAAAAAAAAAAAAAAAAAAAAAAAAAAAAAAAAAAAAAAAAAAAAAAAAAAAAAAAAAAAAAAAAAAAAAAAAAAAAAAAAAAAOUKDQpDB8Y+AAAAAAAAAAAAAAAAAAAAAAAAAAAAAAAAAAAAAAAAAAAAAAAAAAAAAAAAAAAAAAAAAAAAAAAAAAAAAAAAAAAAAAAAAAAAAAAAAAAAAAAAAAAAAAAAAAAAAAAAAAAAAAAAAAAAAAAAAAAAAAAAAAAAAAAAAAAAAAAAAAAAAAAAAAAAAAAAAAAAAAAAAAAAAAAAAAAAAAAAAAAAAAAAAAAAAAAAAAAAAAAAAAAAAAAAAAAAAAAAAAAAAAAAAAAAAAAAAAAAAAAAAAAAAAAAAAAAAAAAAAAAAAAAAAAAAAAAAAAAAAAAAAAAAAAAAAAAAAAAAAAAAAAAAAAAAAAAAAAAAAAAAAAAAAAAAAAAAAAAAAAAAAAAAAAAAAAAAAAAAAAAAAAAAAAAAAAAAAAAAAAAAAAAAAAAAAAAAAAAAAAAAAAAAAAAAAAAAAAAAAAAAAAAAAAAAAAAAAAAAAAAAAAAAAAAAAAAAAAAAAAAAAAAAAAAAAAAAAAAAAAAAAAAAAAAAAAAAAAAAAAAAAAAAAAAAAAAAAAAAAAAAAAAAAAAAAAAAAAAAAAAAAAAAAAAAAAAAAAAAAAAAAAAAAAAAAAAAAAAAAAAAAAAAAAAAAAAAAAAAAAAAAAAAAAAAAAAAAAAAAAAAAAAAAAAAAAAAAAAAAAAAAAAAAAAAAAAAAAAAAAAAAAAAAAAAAAAAAAAAAAA5QoNCkMHxj4=\",\"dtype\":\"float64\",\"shape\":[100]}},\"selected\":{\"id\":\"1129\"},\"selection_policy\":{\"id\":\"1130\"}},\"id\":\"1112\",\"type\":\"ColumnDataSource\"},{\"attributes\":{\"source\":{\"id\":\"1112\"}},\"id\":\"1116\",\"type\":\"CDSView\"},{\"attributes\":{\"bottom\":{\"value\":0},\"fill_alpha\":{\"value\":0.1},\"fill_color\":{\"value\":\"#1f77b4\"},\"left\":{\"field\":\"left\"},\"line_alpha\":{\"value\":0.1},\"line_color\":{\"value\":\"#555555\"},\"right\":{\"field\":\"right\"},\"top\":{\"field\":\"top\"}},\"id\":\"1114\",\"type\":\"Quad\"},{\"attributes\":{\"formatter\":{\"id\":\"1125\"},\"ticker\":{\"id\":\"1100\"}},\"id\":\"1099\",\"type\":\"LinearAxis\"},{\"attributes\":{\"data_source\":{\"id\":\"1112\"},\"glyph\":{\"id\":\"1113\"},\"hover_glyph\":null,\"muted_glyph\":null,\"nonselection_glyph\":{\"id\":\"1114\"},\"selection_glyph\":null,\"view\":{\"id\":\"1116\"}},\"id\":\"1115\",\"type\":\"GlyphRenderer\"},{\"attributes\":{\"bottom\":{\"value\":0},\"fill_color\":{\"value\":\"#1f77b4\"},\"left\":{\"field\":\"left\"},\"line_color\":{\"value\":\"#555555\"},\"right\":{\"field\":\"right\"},\"top\":{\"field\":\"top\"}},\"id\":\"1113\",\"type\":\"Quad\"},{\"attributes\":{},\"id\":\"1106\",\"type\":\"SaveTool\"},{\"attributes\":{},\"id\":\"1127\",\"type\":\"BasicTickFormatter\"},{\"attributes\":{},\"id\":\"1087\",\"type\":\"DataRange1d\"},{\"attributes\":{\"axis\":{\"id\":\"1095\"},\"ticker\":null},\"id\":\"1098\",\"type\":\"Grid\"},{\"attributes\":{},\"id\":\"1130\",\"type\":\"UnionRenderers\"},{\"attributes\":{},\"id\":\"1091\",\"type\":\"LinearScale\"},{\"attributes\":{},\"id\":\"1129\",\"type\":\"Selection\"},{\"attributes\":{\"active_drag\":\"auto\",\"active_inspect\":\"auto\",\"active_multi\":null,\"active_scroll\":\"auto\",\"active_tap\":\"auto\",\"tools\":[{\"id\":\"1103\"},{\"id\":\"1104\"},{\"id\":\"1105\"},{\"id\":\"1106\"}]},\"id\":\"1107\",\"type\":\"Toolbar\"},{\"attributes\":{},\"id\":\"1100\",\"type\":\"BasicTicker\"},{\"attributes\":{},\"id\":\"1089\",\"type\":\"DataRange1d\"},{\"attributes\":{\"formatter\":{\"id\":\"1127\"},\"ticker\":{\"id\":\"1096\"}},\"id\":\"1095\",\"type\":\"LinearAxis\"},{\"attributes\":{},\"id\":\"1105\",\"type\":\"ResetTool\"},{\"attributes\":{\"text\":\"The frequency distribution of the words in our corpus\"},\"id\":\"1085\",\"type\":\"Title\"},{\"attributes\":{},\"id\":\"1103\",\"type\":\"PanTool\"}],\"root_ids\":[\"1084\"]},\"title\":\"Bokeh Application\",\"version\":\"2.0.2\"}};\n",
       "  var render_items = [{\"docid\":\"16ef8718-c5a8-4bf8-b9dd-359b7bae8dbb\",\"root_ids\":[\"1084\"],\"roots\":{\"1084\":\"91421f2f-3997-4f5c-8f7e-30fdf1335e6e\"}}];\n",
       "  root.Bokeh.embed.embed_items_notebook(docs_json, render_items);\n",
       "\n",
       "  }\n",
       "  if (root.Bokeh !== undefined) {\n",
       "    embed_document(root);\n",
       "  } else {\n",
       "    var attempts = 0;\n",
       "    var timer = setInterval(function(root) {\n",
       "      if (root.Bokeh !== undefined) {\n",
       "        clearInterval(timer);\n",
       "        embed_document(root);\n",
       "      } else {\n",
       "        attempts++;\n",
       "        if (attempts > 100) {\n",
       "          clearInterval(timer);\n",
       "          console.log(\"Bokeh: ERROR: Unable to run BokehJS code because BokehJS library is missing\");\n",
       "        }\n",
       "      }\n",
       "    }, 10, root)\n",
       "  }\n",
       "})(window);"
      ],
      "application/vnd.bokehjs_exec.v0+json": ""
     },
     "metadata": {
      "application/vnd.bokehjs_exec.v0+json": {
       "id": "1084"
      }
     },
     "output_type": "display_data"
    }
   ],
   "source": [
    "hist, edges = np.histogram(list(map(lambda x:x[1],frequency_frequency.most_common())), density=True, bins=100, normed=True)\n",
    "\n",
    "p = figure(tools=\"pan,wheel_zoom,reset,save\",\n",
    "           toolbar_location=\"above\",\n",
    "           title=\"The frequency distribution of the words in our corpus\")\n",
    "p.quad(top=hist, bottom=0, left=edges[:-1], right=edges[1:], line_color=\"#555555\")\n",
    "show(p)"
   ]
  },
  {
   "cell_type": "code",
   "execution_count": 16,
   "metadata": {},
   "outputs": [
    {
     "data": {
      "image/png": "[encoded data removed]",
      "text/plain": [
       "<IPython.core.display.Image object>"
      ]
     },
     "execution_count": 16,
     "metadata": {},
     "output_type": "execute_result"
    }
   ],
   "source": [
    "from IPython.display import Image\n",
    "\n",
    "review = \"This was a horrible, terrible movie.\"\n",
    "Image(filename='../notebook_images/sentiment_network.png')"
   ]
  },
  {
   "cell_type": "markdown",
   "metadata": {},
   "source": [
    "# Neural Network"
   ]
  },
  {
   "cell_type": "code",
   "execution_count": 62,
   "metadata": {},
   "outputs": [],
   "source": [
    "from sentiment_analysis.sentiment import SentimentNetwork"
   ]
  },
  {
   "cell_type": "code",
   "execution_count": 63,
   "metadata": {},
   "outputs": [],
   "source": [
    "net = SentimentNetwork(reviews[:-1000],labels[:-1000],min_count=20,polarity_cutoff=0.05,learning_rate=0.01)"
   ]
  },
  {
   "cell_type": "code",
   "execution_count": 64,
   "metadata": {},
   "outputs": [
    {
     "name": "stdout",
     "output_type": "stream",
     "text": [
      "Progress:99.9% Speed(reviews/sec):1384. #Correct:20461 #Trained:24000 Training Accuracy:85.2%"
     ]
    }
   ],
   "source": [
    "net.train(reviews[:-1000], labels[:-1000])"
   ]
  },
  {
   "cell_type": "code",
   "execution_count": 68,
   "metadata": {},
   "outputs": [
    {
     "name": "stdout",
     "output_type": "stream",
     "text": [
      "Progress:99.9% Speed(reviews/sec):2378.% #Correct:859 #Tested:1000 Testing Accuracy:85.9%"
     ]
    }
   ],
   "source": [
    "net.test(reviews[-1000:], labels[-1000:])"
   ]
  },
  {
   "cell_type": "code",
   "execution_count": 81,
   "metadata": {},
   "outputs": [],
   "source": [
    "mlp_full = SentimentNetwork(reviews[:-1000],labels[:-1000],min_count=0,polarity_cutoff=0,learning_rate=0.01)"
   ]
  },
  {
   "cell_type": "code",
   "execution_count": 82,
   "metadata": {},
   "outputs": [
    {
     "name": "stdout",
     "output_type": "stream",
     "text": [
      "Progress:99.9% Speed(reviews/sec):1575. #Correct:20335 #Trained:24000 Training Accuracy:84.7%"
     ]
    }
   ],
   "source": [
    "mlp_full.train(reviews[:-1000],labels[:-1000])"
   ]
  },
  {
   "cell_type": "code",
   "execution_count": 70,
   "metadata": {},
   "outputs": [
    {
     "data": {
      "image/png": "[encoded data removed]",
      "text/plain": [
       "<IPython.core.display.Image object>"
      ]
     },
     "execution_count": 70,
     "metadata": {},
     "output_type": "execute_result"
    }
   ],
   "source": [
    "Image(filename='../notebook_images/sentiment_network_sparse.png')"
   ]
  },
  {
   "cell_type": "code",
   "execution_count": 89,
   "metadata": {},
   "outputs": [],
   "source": [
    "def get_most_similar_words(focus = \"horrible\"):\n",
    "    most_similar = Counter()\n",
    "\n",
    "    for word in mlp_full.word2index.keys():\n",
    "        most_similar[word] = np.dot(mlp_full.weights_0_1[mlp_full.word2index[word]],mlp_full.weights_0_1[mlp_full.word2index[focus]])\n",
    "    \n",
    "    return most_similar.most_common()"
   ]
  },
  {
   "cell_type": "code",
   "execution_count": 90,
   "metadata": {},
   "outputs": [
    {
     "data": {
      "text/plain": [
       "[('excellent', 0.13672950757352473),\n",
       " ('perfect', 0.12548286087225946),\n",
       " ('amazing', 0.0918276339259997),\n",
       " ('today', 0.0902236626944142),\n",
       " ('wonderful', 0.08935597696221463)]"
      ]
     },
     "execution_count": 90,
     "metadata": {},
     "output_type": "execute_result"
    }
   ],
   "source": [
    "get_most_similar_words(\"excellent\")[:5]"
   ]
  },
  {
   "cell_type": "code",
   "execution_count": 91,
   "metadata": {},
   "outputs": [
    {
     "data": {
      "text/plain": [
       "[('worst', 0.16966107259049845),\n",
       " ('awful', 0.12026847019691245),\n",
       " ('waste', 0.11945367265311004),\n",
       " ('poor', 0.0927588875744355),\n",
       " ('terrible', 0.09142538719772794)]"
      ]
     },
     "execution_count": 91,
     "metadata": {},
     "output_type": "execute_result"
    }
   ],
   "source": [
    "get_most_similar_words(\"terrible\")[:5]"
   ]
  },
  {
   "cell_type": "code",
   "execution_count": 92,
   "metadata": {},
   "outputs": [],
   "source": [
    "import matplotlib.colors as colors\n",
    "\n",
    "words_to_visualize = list()\n",
    "for word, ratio in pos_neg_ratios.most_common(500):\n",
    "    if(word in mlp_full.word2index.keys()):\n",
    "        words_to_visualize.append(word)\n",
    "    \n",
    "for word, ratio in list(reversed(pos_neg_ratios.most_common()))[0:500]:\n",
    "    if(word in mlp_full.word2index.keys()):\n",
    "        words_to_visualize.append(word)"
   ]
  },
  {
   "cell_type": "code",
   "execution_count": 93,
   "metadata": {},
   "outputs": [],
   "source": [
    "pos = 0\n",
    "neg = 0\n",
    "\n",
    "colors_list = list()\n",
    "vectors_list = list()\n",
    "for word in words_to_visualize:\n",
    "    if word in pos_neg_ratios.keys():\n",
    "        vectors_list.append(mlp_full.weights_0_1[mlp_full.word2index[word]])\n",
    "        if(pos_neg_ratios[word] > 0):\n",
    "            pos+=1\n",
    "            colors_list.append(\"#00ff00\")\n",
    "        else:\n",
    "            neg+=1\n",
    "            colors_list.append(\"#000000\")\n",
    "    "
   ]
  },
  {
   "cell_type": "code",
   "execution_count": 94,
   "metadata": {},
   "outputs": [],
   "source": [
    "from sklearn.manifold import TSNE\n",
    "tsne = TSNE(n_components=2, random_state=0)\n",
    "words_top_ted_tsne = tsne.fit_transform(vectors_list)"
   ]
  },
  {
   "cell_type": "code",
   "execution_count": 98,
   "metadata": {},
   "outputs": [
    {
     "data": {
      "text/html": [
       "\n",
       "\n",
       "\n",
       "\n",
       "\n",
       "\n",
       "  <div class=\"bk-root\" id=\"31e64fd4-513f-47c8-8208-b5571286522f\" data-root-id=\"1263\"></div>\n"
      ]
     },
     "metadata": {},
     "output_type": "display_data"
    },
    {
     "data": {
      "application/javascript": [
       "(function(root) {\n",
       "  function embed_document(root) {\n",
       "    \n",
       "  var docs_json = {\"9ff935d7-277f-40c8-9ee2-0a449e7ac758\":{\"roots\":{\"references\":[{\"attributes\":{\"below\":[{\"id\":\"1274\"}],\"center\":[{\"id\":\"1277\"},{\"id\":\"1281\"},{\"id\":\"1297\"}],\"left\":[{\"id\":\"1278\"}],\"renderers\":[{\"id\":\"1295\"}],\"title\":{\"id\":\"1264\"},\"toolbar\":{\"id\":\"1286\"},\"toolbar_location\":\"above\",\"x_range\":{\"id\":\"1266\"},\"x_scale\":{\"id\":\"1270\"},\"y_range\":{\"id\":\"1268\"},\"y_scale\":{\"id\":\"1272\"}},\"id\":\"1263\",\"subtype\":\"Figure\",\"type\":\"Plot\"},{\"attributes\":{\"active_drag\":\"auto\",\"active_inspect\":\"auto\",\"active_multi\":null,\"active_scroll\":\"auto\",\"active_tap\":\"auto\",\"tools\":[{\"id\":\"1282\"},{\"id\":\"1283\"},{\"id\":\"1284\"},{\"id\":\"1285\"}]},\"id\":\"1286\",\"type\":\"Toolbar\"},{\"attributes\":{},\"id\":\"1282\",\"type\":\"PanTool\"},{\"attributes\":{},\"id\":\"1285\",\"type\":\"SaveTool\"},{\"attributes\":{\"formatter\":{\"id\":\"1316\"},\"ticker\":{\"id\":\"1275\"}},\"id\":\"1274\",\"type\":\"LinearAxis\"},{\"attributes\":{},\"id\":\"1319\",\"type\":\"UnionRenderers\"},{\"attributes\":{},\"id\":\"1270\",\"type\":\"LinearScale\"},{\"attributes\":{},\"id\":\"1284\",\"type\":\"ResetTool\"},{\"attributes\":{\"data\":{\"color\":[\"#00ff00\",\"#00ff00\",\"#00ff00\",\"#00ff00\",\"#00ff00\",\"#00ff00\",\"#00ff00\",\"#00ff00\",\"#00ff00\",\"#00ff00\",\"#00ff00\",\"#00ff00\",\"#00ff00\",\"#00ff00\",\"#00ff00\",\"#00ff00\",\"#00ff00\",\"#00ff00\",\"#00ff00\",\"#00ff00\",\"#00ff00\",\"#00ff00\",\"#00ff00\",\"#00ff00\",\"#00ff00\",\"#00ff00\",\"#00ff00\",\"#00ff00\",\"#00ff00\",\"#00ff00\",\"#00ff00\",\"#00ff00\",\"#00ff00\",\"#00ff00\",\"#00ff00\",\"#00ff00\",\"#00ff00\",\"#00ff00\",\"#00ff00\",\"#00ff00\",\"#00ff00\",\"#00ff00\",\"#00ff00\",\"#00ff00\",\"#00ff00\",\"#00ff00\",\"#00ff00\",\"#00ff00\",\"#00ff00\",\"#00ff00\",\"#00ff00\",\"#00ff00\",\"#00ff00\",\"#00ff00\",\"#00ff00\",\"#00ff00\",\"#00ff00\",\"#00ff00\",\"#00ff00\",\"#00ff00\",\"#00ff00\",\"#00ff00\",\"#00ff00\",\"#00ff00\",\"#00ff00\",\"#00ff00\",\"#00ff00\",\"#00ff00\",\"#00ff00\",\"#00ff00\",\"#00ff00\",\"#00ff00\",\"#00ff00\",\"#00ff00\",\"#00ff00\",\"#00ff00\",\"#00ff00\",\"#00ff00\",\"#00ff00\",\"#00ff00\",\"#00ff00\",\"#00ff00\",\"#00ff00\",\"#00ff00\",\"#00ff00\",\"#00ff00\",\"#00ff00\",\"#00ff00\",\"#00ff00\",\"#00ff00\",\"#00ff00\",\"#00ff00\",\"#00ff00\",\"#00ff00\",\"#00ff00\",\"#00ff00\",\"#00ff00\",\"#00ff00\",\"#00ff00\",\"#00ff00\",\"#00ff00\",\"#00ff00\",\"#00ff00\",\"#00ff00\",\"#00ff00\",\"#00ff00\",\"#00ff00\",\"#00ff00\",\"#00ff00\",\"#00ff00\",\"#00ff00\",\"#00ff00\",\"#00ff00\",\"#00ff00\",\"#00ff00\",\"#00ff00\",\"#00ff00\",\"#00ff00\",\"#00ff00\",\"#00ff00\",\"#00ff00\",\"#00ff00\",\"#00ff00\",\"#00ff00\",\"#00ff00\",\"#00ff00\",\"#00ff00\",\"#00ff00\",\"#00ff00\",\"#00ff00\",\"#00ff00\",\"#00ff00\",\"#00ff00\",\"#00ff00\",\"#00ff00\",\"#00ff00\",\"#00ff00\",\"#00ff00\",\"#00ff00\",\"#00ff00\",\"#00ff00\",\"#00ff00\",\"#00ff00\",\"#00ff00\",\"#00ff00\",\"#00ff00\",\"#00ff00\",\"#00ff00\",\"#00ff00\",\"#00ff00\",\"#00ff00\",\"#00ff00\",\"#00ff00\",\"#00ff00\",\"#00ff00\",\"#00ff00\",\"#00ff00\",\"#00ff00\",\"#00ff00\",\"#00ff00\",\"#00ff00\",\"#00ff00\",\"#00ff00\",\"#00ff00\",\"#00ff00\",\"#00ff00\",\"#00ff00\",\"#00ff00\",\"#00ff00\",\"#00ff00\",\"#00ff00\",\"#00ff00\",\"#00ff00\",\"#00ff00\",\"#00ff00\",\"#00ff00\",\"#00ff00\",\"#00ff00\",\"#00ff00\",\"#00ff00\",\"#00ff00\",\"#00ff00\",\"#00ff00\",\"#00ff00\",\"#00ff00\",\"#00ff00\",\"#00ff00\",\"#00ff00\",\"#00ff00\",\"#00ff00\",\"#00ff00\",\"#00ff00\",\"#00ff00\",\"#00ff00\",\"#00ff00\",\"#00ff00\",\"#00ff00\",\"#00ff00\",\"#00ff00\",\"#00ff00\",\"#00ff00\",\"#00ff00\",\"#00ff00\",\"#00ff00\",\"#00ff00\",\"#00ff00\",\"#00ff00\",\"#00ff00\",\"#00ff00\",\"#00ff00\",\"#00ff00\",\"#00ff00\",\"#00ff00\",\"#00ff00\",\"#00ff00\",\"#00ff00\",\"#00ff00\",\"#00ff00\",\"#00ff00\",\"#00ff00\",\"#00ff00\",\"#00ff00\",\"#00ff00\",\"#00ff00\",\"#00ff00\",\"#00ff00\",\"#00ff00\",\"#00ff00\",\"#00ff00\",\"#00ff00\",\"#00ff00\",\"#00ff00\",\"#00ff00\",\"#00ff00\",\"#00ff00\",\"#00ff00\",\"#00ff00\",\"#00ff00\",\"#00ff00\",\"#00ff00\",\"#00ff00\",\"#00ff00\",\"#00ff00\",\"#00ff00\",\"#00ff00\",\"#00ff00\",\"#00ff00\",\"#00ff00\",\"#00ff00\",\"#00ff00\",\"#00ff00\",\"#00ff00\",\"#00ff00\",\"#00ff00\",\"#00ff00\",\"#00ff00\",\"#00ff00\",\"#00ff00\",\"#00ff00\",\"#00ff00\",\"#00ff00\",\"#00ff00\",\"#00ff00\",\"#00ff00\",\"#00ff00\",\"#00ff00\",\"#00ff00\",\"#00ff00\",\"#00ff00\",\"#00ff00\",\"#00ff00\",\"#00ff00\",\"#00ff00\",\"#00ff00\",\"#00ff00\",\"#00ff00\",\"#00ff00\",\"#00ff00\",\"#00ff00\",\"#00ff00\",\"#00ff00\",\"#00ff00\",\"#00ff00\",\"#00ff00\",\"#00ff00\",\"#00ff00\",\"#00ff00\",\"#00ff00\",\"#00ff00\",\"#00ff00\",\"#00ff00\",\"#00ff00\",\"#00ff00\",\"#00ff00\",\"#00ff00\",\"#00ff00\",\"#00ff00\",\"#00ff00\",\"#00ff00\",\"#00ff00\",\"#00ff00\",\"#00ff00\",\"#00ff00\",\"#00ff00\",\"#00ff00\",\"#00ff00\",\"#00ff00\",\"#00ff00\",\"#00ff00\",\"#00ff00\",\"#00ff00\",\"#00ff00\",\"#00ff00\",\"#00ff00\",\"#00ff00\",\"#00ff00\",\"#00ff00\",\"#00ff00\",\"#00ff00\",\"#00ff00\",\"#00ff00\",\"#00ff00\",\"#00ff00\",\"#00ff00\",\"#00ff00\",\"#00ff00\",\"#00ff00\",\"#00ff00\",\"#00ff00\",\"#00ff00\",\"#00ff00\",\"#00ff00\",\"#00ff00\",\"#00ff00\",\"#00ff00\",\"#00ff00\",\"#00ff00\",\"#00ff00\",\"#00ff00\",\"#00ff00\",\"#00ff00\",\"#00ff00\",\"#00ff00\",\"#00ff00\",\"#00ff00\",\"#00ff00\",\"#00ff00\",\"#00ff00\",\"#00ff00\",\"#00ff00\",\"#00ff00\",\"#00ff00\",\"#00ff00\",\"#00ff00\",\"#00ff00\",\"#00ff00\",\"#00ff00\",\"#00ff00\",\"#00ff00\",\"#00ff00\",\"#00ff00\",\"#00ff00\",\"#00ff00\",\"#00ff00\",\"#00ff00\",\"#00ff00\",\"#00ff00\",\"#00ff00\",\"#00ff00\",\"#00ff00\",\"#00ff00\",\"#00ff00\",\"#00ff00\",\"#00ff00\",\"#00ff00\",\"#00ff00\",\"#00ff00\",\"#00ff00\",\"#00ff00\",\"#00ff00\",\"#00ff00\",\"#00ff00\",\"#00ff00\",\"#00ff00\",\"#00ff00\",\"#00ff00\",\"#00ff00\",\"#00ff00\",\"#00ff00\",\"#00ff00\",\"#00ff00\",\"#00ff00\",\"#00ff00\",\"#00ff00\",\"#00ff00\",\"#00ff00\",\"#00ff00\",\"#00ff00\",\"#00ff00\",\"#00ff00\",\"#00ff00\",\"#00ff00\",\"#00ff00\",\"#00ff00\",\"#00ff00\",\"#00ff00\",\"#00ff00\",\"#00ff00\",\"#00ff00\",\"#00ff00\",\"#00ff00\",\"#00ff00\",\"#00ff00\",\"#00ff00\",\"#00ff00\",\"#00ff00\",\"#00ff00\",\"#00ff00\",\"#00ff00\",\"#00ff00\",\"#00ff00\",\"#00ff00\",\"#00ff00\",\"#00ff00\",\"#00ff00\",\"#00ff00\",\"#00ff00\",\"#00ff00\",\"#00ff00\",\"#00ff00\",\"#00ff00\",\"#00ff00\",\"#00ff00\",\"#00ff00\",\"#00ff00\",\"#00ff00\",\"#00ff00\",\"#00ff00\",\"#00ff00\",\"#00ff00\",\"#00ff00\",\"#00ff00\",\"#00ff00\",\"#00ff00\",\"#00ff00\",\"#00ff00\",\"#00ff00\",\"#00ff00\",\"#00ff00\",\"#00ff00\",\"#00ff00\",\"#00ff00\",\"#00ff00\",\"#00ff00\",\"#00ff00\",\"#00ff00\",\"#00ff00\",\"#00ff00\",\"#00ff00\",\"#00ff00\",\"#00ff00\",\"#00ff00\",\"#00ff00\",\"#00ff00\",\"#00ff00\",\"#00ff00\",\"#00ff00\",\"#00ff00\",\"#00ff00\",\"#00ff00\",\"#00ff00\",\"#00ff00\",\"#00ff00\",\"#00ff00\",\"#00ff00\",\"#00ff00\",\"#00ff00\",\"#00ff00\",\"#00ff00\",\"#00ff00\",\"#00ff00\",\"#00ff00\",\"#00ff00\",\"#00ff00\",\"#00ff00\",\"#00ff00\",\"#00ff00\",\"#00ff00\",\"#00ff00\",\"#00ff00\",\"#00ff00\",\"#00ff00\",\"#00ff00\",\"#00ff00\",\"#00ff00\",\"#00ff00\",\"#00ff00\",\"#00ff00\",\"#00ff00\",\"#00ff00\",\"#000000\",\"#000000\",\"#000000\",\"#000000\",\"#000000\",\"#000000\",\"#000000\",\"#000000\",\"#000000\",\"#000000\",\"#000000\",\"#000000\",\"#000000\",\"#000000\",\"#000000\",\"#000000\",\"#000000\",\"#000000\",\"#000000\",\"#000000\",\"#000000\",\"#000000\",\"#000000\",\"#000000\",\"#000000\",\"#000000\",\"#000000\",\"#000000\",\"#000000\",\"#000000\",\"#000000\",\"#000000\",\"#000000\",\"#000000\",\"#000000\",\"#000000\",\"#000000\",\"#000000\",\"#000000\",\"#000000\",\"#000000\",\"#000000\",\"#000000\",\"#000000\",\"#000000\",\"#000000\",\"#000000\",\"#000000\",\"#000000\",\"#000000\",\"#000000\",\"#000000\",\"#000000\",\"#000000\",\"#000000\",\"#000000\",\"#000000\",\"#000000\",\"#000000\",\"#000000\",\"#000000\",\"#000000\",\"#000000\",\"#000000\",\"#000000\",\"#000000\",\"#000000\",\"#000000\",\"#000000\",\"#000000\",\"#000000\",\"#000000\",\"#000000\",\"#000000\",\"#000000\",\"#000000\",\"#000000\",\"#000000\",\"#000000\",\"#000000\",\"#000000\",\"#000000\",\"#000000\",\"#000000\",\"#000000\",\"#000000\",\"#000000\",\"#000000\",\"#000000\",\"#000000\",\"#000000\",\"#000000\",\"#000000\",\"#000000\",\"#000000\",\"#000000\",\"#000000\",\"#000000\",\"#000000\",\"#000000\",\"#000000\",\"#000000\",\"#000000\",\"#000000\",\"#000000\",\"#000000\",\"#000000\",\"#000000\",\"#000000\",\"#000000\",\"#000000\",\"#000000\",\"#000000\",\"#000000\",\"#000000\",\"#000000\",\"#000000\",\"#000000\",\"#000000\",\"#000000\",\"#000000\",\"#000000\",\"#000000\",\"#000000\",\"#000000\",\"#000000\",\"#000000\",\"#000000\",\"#000000\",\"#000000\",\"#000000\",\"#000000\",\"#000000\",\"#000000\",\"#000000\",\"#000000\",\"#000000\",\"#000000\",\"#000000\",\"#000000\",\"#000000\",\"#000000\",\"#000000\",\"#000000\",\"#000000\",\"#000000\",\"#000000\",\"#000000\",\"#000000\",\"#000000\",\"#000000\",\"#000000\",\"#000000\",\"#000000\",\"#000000\",\"#000000\",\"#000000\",\"#000000\",\"#000000\",\"#000000\",\"#000000\",\"#000000\",\"#000000\",\"#000000\",\"#000000\",\"#000000\",\"#000000\",\"#000000\",\"#000000\",\"#000000\",\"#000000\",\"#000000\",\"#000000\",\"#000000\",\"#000000\",\"#000000\",\"#000000\",\"#000000\",\"#000000\",\"#000000\",\"#000000\",\"#000000\",\"#000000\",\"#000000\",\"#000000\",\"#000000\",\"#000000\",\"#000000\",\"#000000\",\"#000000\",\"#000000\",\"#000000\",\"#000000\",\"#000000\",\"#000000\",\"#000000\",\"#000000\",\"#000000\",\"#000000\",\"#000000\",\"#000000\",\"#000000\",\"#000000\",\"#000000\",\"#000000\",\"#000000\",\"#000000\",\"#000000\",\"#000000\",\"#000000\",\"#000000\",\"#000000\",\"#000000\",\"#000000\",\"#000000\",\"#000000\",\"#000000\",\"#000000\",\"#000000\",\"#000000\",\"#000000\",\"#000000\",\"#000000\",\"#000000\",\"#000000\",\"#000000\",\"#000000\",\"#000000\",\"#000000\",\"#000000\",\"#000000\",\"#000000\",\"#000000\",\"#000000\",\"#000000\",\"#000000\",\"#000000\",\"#000000\",\"#000000\",\"#000000\",\"#000000\",\"#000000\",\"#000000\",\"#000000\",\"#000000\",\"#000000\",\"#000000\",\"#000000\",\"#000000\",\"#000000\",\"#000000\",\"#000000\",\"#000000\",\"#000000\",\"#000000\",\"#000000\",\"#000000\",\"#000000\",\"#000000\",\"#000000\",\"#000000\",\"#000000\",\"#000000\",\"#000000\",\"#000000\",\"#000000\",\"#000000\",\"#000000\",\"#000000\",\"#000000\",\"#000000\",\"#000000\",\"#000000\",\"#000000\",\"#000000\",\"#000000\",\"#000000\",\"#000000\",\"#000000\",\"#000000\",\"#000000\",\"#000000\",\"#000000\",\"#000000\",\"#000000\",\"#000000\",\"#000000\",\"#000000\",\"#000000\",\"#000000\",\"#000000\",\"#000000\",\"#000000\",\"#000000\",\"#000000\",\"#000000\",\"#000000\",\"#000000\",\"#000000\",\"#000000\",\"#000000\",\"#000000\",\"#000000\",\"#000000\",\"#000000\",\"#000000\",\"#000000\",\"#000000\",\"#000000\",\"#000000\",\"#000000\",\"#000000\",\"#000000\",\"#000000\",\"#000000\",\"#000000\",\"#000000\",\"#000000\",\"#000000\",\"#000000\",\"#000000\",\"#000000\",\"#000000\",\"#000000\",\"#000000\",\"#000000\",\"#000000\",\"#000000\",\"#000000\",\"#000000\",\"#000000\",\"#000000\",\"#000000\",\"#000000\",\"#000000\",\"#000000\",\"#000000\",\"#000000\",\"#000000\",\"#000000\",\"#000000\",\"#000000\",\"#000000\",\"#000000\",\"#000000\",\"#000000\",\"#000000\",\"#000000\",\"#000000\",\"#000000\",\"#000000\",\"#000000\",\"#000000\",\"#000000\",\"#000000\",\"#000000\",\"#000000\",\"#000000\",\"#000000\",\"#000000\",\"#000000\",\"#000000\",\"#000000\",\"#000000\",\"#000000\",\"#000000\",\"#000000\",\"#000000\",\"#000000\",\"#000000\",\"#000000\",\"#000000\",\"#000000\",\"#000000\",\"#000000\",\"#000000\",\"#000000\",\"#000000\",\"#000000\",\"#000000\",\"#000000\",\"#000000\",\"#000000\",\"#000000\",\"#000000\",\"#000000\",\"#000000\",\"#000000\",\"#000000\",\"#000000\",\"#000000\",\"#000000\",\"#000000\",\"#000000\",\"#000000\",\"#000000\",\"#000000\",\"#000000\",\"#000000\",\"#000000\",\"#000000\",\"#000000\",\"#000000\",\"#000000\",\"#000000\",\"#000000\",\"#000000\",\"#000000\",\"#000000\",\"#000000\",\"#000000\",\"#000000\",\"#000000\",\"#000000\",\"#000000\",\"#000000\",\"#000000\",\"#000000\",\"#000000\",\"#000000\",\"#000000\",\"#000000\",\"#000000\",\"#000000\",\"#000000\",\"#000000\",\"#000000\",\"#000000\",\"#000000\",\"#000000\",\"#000000\",\"#000000\",\"#000000\",\"#000000\",\"#000000\",\"#000000\",\"#000000\",\"#000000\",\"#000000\",\"#000000\",\"#000000\",\"#000000\",\"#000000\",\"#000000\",\"#000000\",\"#000000\",\"#000000\",\"#000000\",\"#000000\",\"#000000\",\"#000000\",\"#000000\",\"#000000\",\"#000000\",\"#000000\",\"#000000\",\"#000000\",\"#000000\",\"#000000\",\"#000000\",\"#000000\",\"#000000\",\"#000000\",\"#000000\",\"#000000\",\"#000000\",\"#000000\",\"#000000\",\"#000000\",\"#000000\",\"#000000\",\"#000000\",\"#000000\",\"#000000\",\"#000000\",\"#000000\",\"#000000\",\"#000000\",\"#000000\",\"#000000\",\"#000000\",\"#000000\",\"#000000\",\"#000000\",\"#000000\",\"#000000\",\"#000000\",\"#000000\",\"#000000\",\"#000000\",\"#000000\",\"#000000\",\"#000000\",\"#000000\",\"#000000\",\"#000000\",\"#000000\",\"#000000\",\"#000000\",\"#000000\"],\"names\":[\"wonderfully\",\"beautifully\",\"superb\",\"touching\",\"stewart\",\"wonderful\",\"fantastic\",\"terrific\",\"noir\",\"outstanding\",\"excellent\",\"gem\",\"amazing\",\"kelly\",\"powerful\",\"remarkable\",\"favorite\",\"stunning\",\"perfect\",\"favourite\",\"journey\",\"bond\",\"brilliant\",\"recommended\",\"perfectly\",\"emotions\",\"subtle\",\"rare\",\"loved\",\"highly\",\"tony\",\"today\",\"helps\",\"awesome\",\"unique\",\"tragic\",\"intense\",\"provides\",\"davis\",\"beauty\",\"fascinating\",\"greatest\",\"portrayal\",\"deeply\",\"incredible\",\"harry\",\"sweet\",\"oscar\",\"unusual\",\"complex\",\"solid\",\"beautiful\",\"tears\",\"feelings\",\"winning\",\"paris\",\"heart\",\"masterpiece\",\"themes\",\"danny\",\"charming\",\"impact\",\"treat\",\"loving\",\"surprising\",\"funniest\",\"season\",\"compelling\",\"castle\",\"great\",\"tragedy\",\"arthur\",\"gorgeous\",\"enjoyed\",\"natural\",\"moving\",\"lovely\",\"memorable\",\"episodes\",\"strong\",\"smith\",\"apartment\",\"adventure\",\"adds\",\"childhood\",\"realistic\",\"cry\",\"impressed\",\"edge\",\"jean\",\"frank\",\"tale\",\"fresh\",\"animated\",\"enjoyable\",\"performances\",\"simple\",\"relationship\",\"supporting\",\"emotional\",\"brings\",\"henry\",\"society\",\"available\",\"best\",\"magic\",\"delivers\",\"jim\",\"relationships\",\"charlie\",\"atmosphere\",\"genius\",\"surprisingly\",\"sky\",\"romantic\",\"match\",\"meets\",\"love\",\"paul\",\"andy\",\"performance\",\"unlike\",\"award\",\"ride\",\"dreams\",\"effective\",\"works\",\"master\",\"easy\",\"city\",\"england\",\"sees\",\"both\",\"definitely\",\"appreciate\",\"future\",\"douglas\",\"inspired\",\"marriage\",\"father\",\"page\",\"era\",\"joan\",\"fantasy\",\"personal\",\"william\",\"jack\",\"jane\",\"gives\",\"animation\",\"classic\",\"impressive\",\"artist\",\"moved\",\"innocent\",\"eddie\",\"nature\",\"brian\",\"offers\",\"pleasure\",\"images\",\"games\",\"fine\",\"job\",\"believable\",\"always\",\"touch\",\"lives\",\"pre\",\"young\",\"french\",\"war\",\"knowing\",\"true\",\"jr\",\"sent\",\"grand\",\"brothers\",\"david\",\"charm\",\"twists\",\"family\",\"thanks\",\"world\",\"life\",\"color\",\"superior\",\"york\",\"jackson\",\"enjoy\",\"stands\",\"each\",\"different\",\"share\",\"series\",\"fellow\",\"loves\",\"century\",\"musical\",\"approach\",\"moves\",\"tells\",\"uncle\",\"deep\",\"famous\",\"epic\",\"adult\",\"shows\",\"human\",\"desire\",\"dirty\",\"fox\",\"fun\",\"south\",\"present\",\"alan\",\"ring\",\"begins\",\"success\",\"recently\",\"finding\",\"among\",\"viewing\",\"finds\",\"plays\",\"age\",\"roles\",\"james\",\"brought\",\"hilarious\",\"brutal\",\"dance\",\"thoroughly\",\"fully\",\"romance\",\"happy\",\"crime\",\"singing\",\"especially\",\"detail\",\"necessary\",\"drama\",\"pictures\",\"history\",\"episode\",\"role\",\"spirit\",\"ways\",\"familiar\",\"dream\",\"critics\",\"born\",\"detective\",\"remains\",\"information\",\"struggle\",\"language\",\"visual\",\"social\",\"reality\",\"hidden\",\"sometimes\",\"modern\",\"popular\",\"surprised\",\"follows\",\"keeps\",\"john\",\"justice\",\"years\",\"lose\",\"caught\",\"chinese\",\"puts\",\"criminal\",\"minor\",\"liked\",\"de\",\"flaws\",\"light\",\"slowly\",\"comedic\",\"married\",\"murder\",\"physical\",\"johnny\",\"comedies\",\"silent\",\"played\",\"vision\",\"intelligent\",\"also\",\"miss\",\"experience\",\"often\",\"disney\",\"events\",\"dancing\",\"boss\",\"key\",\"michael\",\"pace\",\"equally\",\"late\",\"business\",\"later\",\"own\",\"wise\",\"likable\",\"support\",\"live\",\"score\",\"glad\",\"important\",\"well\",\"dark\",\"queen\",\"wild\",\"catch\",\"battle\",\"younger\",\"particular\",\"small\",\"recommend\",\"documentary\",\"studio\",\"political\",\"older\",\"rarely\",\"robert\",\"festival\",\"mary\",\"herself\",\"animals\",\"son\",\"details\",\"early\",\"photography\",\"including\",\"cinema\",\"heaven\",\"culture\",\"jerry\",\"between\",\"proves\",\"still\",\"view\",\"released\",\"song\",\"step\",\"media\",\"ford\",\"become\",\"exciting\",\"collection\",\"system\",\"parents\",\"release\",\"team\",\"cold\",\"adam\",\"taylor\",\"successful\",\"genre\",\"lord\",\"although\",\"soundtrack\",\"entertaining\",\"u\",\"seven\",\"humour\",\"country\",\"very\",\"becoming\",\"form\",\"german\",\"return\",\"uses\",\"may\",\"win\",\"stories\",\"ago\",\"includes\",\"past\",\"chemistry\",\"starring\",\"boys\",\"peter\",\"bill\",\"day\",\"became\",\"normal\",\"british\",\"mother\",\"cinematography\",\"th\",\"summer\",\"actions\",\"his\",\"theme\",\"personally\",\"plenty\",\"stage\",\"recent\",\"throughout\",\"building\",\"whose\",\"escape\",\"element\",\"western\",\"certain\",\"helped\",\"richard\",\"bruce\",\"various\",\"professional\",\"truly\",\"songs\",\"meet\",\"fiction\",\"allen\",\"working\",\"indeed\",\"brother\",\"others\",\"created\",\"length\",\"japanese\",\"engaging\",\"dramatic\",\"addition\",\"chance\",\"america\",\"central\",\"led\",\"change\",\"memory\",\"lived\",\"audiences\",\"deal\",\"tough\",\"our\",\"man\",\"red\",\"known\",\"terms\",\"personality\",\"thriller\",\"contains\",\"comic\",\"manages\",\"town\",\"mr\",\"ray\",\"able\",\"issues\",\"situation\",\"friend\",\"overall\",\"tom\",\"creative\",\"states\",\"similar\",\"viewers\",\"adults\",\"rock\",\"earlier\",\"living\",\"bit\",\"top\",\"rich\",\"portrayed\",\"places\",\"eye\",\"somewhat\",\"wars\",\"soon\",\"quite\",\"period\",\"whom\",\"trip\",\"remember\",\"television\",\"narrative\",\"together\",\"us\",\"game\",\"new\",\"himself\",\"men\",\"art\",\"hit\",\"music\",\"her\",\"follow\",\"drawn\",\"makes\",\"number\",\"truth\",\"filled\",\"waste\",\"pointless\",\"redeeming\",\"worst\",\"laughable\",\"awful\",\"poorly\",\"lame\",\"horrible\",\"pathetic\",\"wasted\",\"crap\",\"badly\",\"worse\",\"terrible\",\"mess\",\"garbage\",\"stupid\",\"dull\",\"avoid\",\"wooden\",\"whatsoever\",\"excuse\",\"ridiculous\",\"boring\",\"bother\",\"dumb\",\"annoying\",\"bad\",\"unless\",\"fails\",\"mediocre\",\"clich\",\"disappointment\",\"zombies\",\"disappointing\",\"supposed\",\"poor\",\"unbelievable\",\"fake\",\"joke\",\"random\",\"cheap\",\"seconds\",\"trash\",\"ugly\",\"oh\",\"failed\",\"bored\",\"cgi\",\"paid\",\"painful\",\"nowhere\",\"absurd\",\"porn\",\"predictable\",\"brain\",\"sorry\",\"vampire\",\"save\",\"lacks\",\"gore\",\"bunch\",\"flat\",\"plain\",\"honestly\",\"minutes\",\"f\",\"yeah\",\"unnecessary\",\"hoping\",\"nudity\",\"decent\",\"rented\",\"disaster\",\"ok\",\"rip\",\"attempt\",\"weak\",\"christian\",\"barely\",\"apparently\",\"nothing\",\"couldn\",\"money\",\"total\",\"supposedly\",\"zombie\",\"bottom\",\"unfortunately\",\"grade\",\"script\",\"producers\",\"okay\",\"confusing\",\"monster\",\"seriously\",\"premise\",\"k\",\"write\",\"zero\",\"guess\",\"scientist\",\"slasher\",\"throw\",\"alien\",\"silly\",\"skip\",\"instead\",\"effort\",\"shoot\",\"none\",\"stick\",\"rent\",\"weren\",\"thin\",\"tried\",\"suppose\",\"mean\",\"looked\",\"channel\",\"spent\",\"low\",\"hour\",\"reason\",\"lack\",\"makers\",\"holes\",\"wouldn\",\"utterly\",\"saying\",\"cover\",\"watchable\",\"mistake\",\"please\",\"neither\",\"creature\",\"thats\",\"why\",\"remake\",\"except\",\"flick\",\"dialog\",\"guy\",\"problem\",\"least\",\"mouth\",\"hell\",\"wasn\",\"idea\",\"budget\",\"naked\",\"cheesy\",\"half\",\"no\",\"sequel\",\"somewhere\",\"someone\",\"walk\",\"editing\",\"positive\",\"anything\",\"sit\",\"either\",\"wrong\",\"god\",\"looks\",\"sadly\",\"thing\",\"writers\",\"victims\",\"sleep\",\"basically\",\"plot\",\"killing\",\"tired\",\"walking\",\"seemed\",\"whatever\",\"wonder\",\"computer\",\"killer\",\"warning\",\"potential\",\"obviously\",\"review\",\"superman\",\"accent\",\"scary\",\"jokes\",\"imdb\",\"hey\",\"acting\",\"wow\",\"damn\",\"sex\",\"giant\",\"disappointed\",\"gay\",\"tries\",\"thrown\",\"obvious\",\"complete\",\"completely\",\"sub\",\"kills\",\"blood\",\"flicks\",\"explain\",\"sitting\",\"call\",\"wondering\",\"island\",\"project\",\"filmmakers\",\"phone\",\"wearing\",\"hardly\",\"didn\",\"minute\",\"rape\",\"effects\",\"purpose\",\"dialogue\",\"thinking\",\"spoiler\",\"pass\",\"aren\",\"cut\",\"otherwise\",\"any\",\"development\",\"even\",\"possibly\",\"don\",\"care\",\"spoilers\",\"spend\",\"value\",\"teen\",\"video\",\"attempts\",\"nobody\",\"sick\",\"college\",\"trying\",\"credits\",\"killed\",\"pay\",\"m\",\"stay\",\"word\",\"maybe\",\"else\",\"car\",\"horror\",\"b\",\"writing\",\"attack\",\"just\",\"t\",\"camera\",\"single\",\"entire\",\"decided\",\"bloody\",\"lighting\",\"shame\",\"talking\",\"concept\",\"cop\",\"let\",\"lines\",\"anybody\",\"off\",\"happens\",\"could\",\"door\",\"van\",\"anywhere\",\"shots\",\"non\",\"mention\",\"wanted\",\"kill\",\"thinks\",\"nasty\",\"gun\",\"ask\",\"make\",\"fell\",\"original\",\"humans\",\"theatre\",\"die\",\"totally\",\"apparent\",\"dead\",\"incredibly\",\"nor\",\"then\",\"suddenly\",\"describe\",\"guys\",\"anti\",\"intelligence\",\"better\",\"hours\",\"body\",\"biggest\",\"somehow\",\"act\",\"head\",\"footage\",\"straight\",\"rating\",\"isn\",\"re\",\"filming\",\"slow\",\"normally\",\"reviews\",\"loud\",\"decide\",\"exception\",\"something\",\"confused\",\"should\",\"hair\",\"plane\",\"sounds\",\"storyline\",\"enough\",\"myself\",\"directing\",\"want\",\"doing\",\"million\",\"actually\",\"ship\",\"wrote\",\"pretty\",\"suit\",\"turning\",\"dies\",\"looking\",\"running\",\"ideas\",\"piece\",\"d\",\"simply\",\"material\",\"needed\",\"whole\",\"name\",\"female\",\"animal\",\"try\",\"theater\",\"forced\",\"kept\",\"stuff\",\"doesn\",\"laugh\",\"watching\",\"cops\",\"making\",\"box\",\"angry\",\"believe\",\"point\",\"there\",\"kid\",\"anyway\",\"sort\",\"intended\",\"do\",\"or\",\"forward\",\"stop\",\"keaton\",\"stuck\",\"only\",\"boyfriend\",\"names\",\"yourself\",\"your\",\"five\",\"might\",\"they\",\"beyond\",\"absolutely\",\"average\",\"rest\",\"movie\",\"count\",\"if\",\"started\",\"would\",\"falls\",\"going\",\"free\",\"imagine\",\"speak\",\"hate\",\"absolute\",\"military\",\"start\",\"sound\",\"clothes\",\"result\",\"sense\",\"getting\",\"begin\",\"merely\",\"woods\",\"production\",\"turned\",\"chase\",\"said\",\"bizarre\",\"carry\",\"seems\",\"tell\",\"bed\",\"wait\",\"filmmaker\",\"finished\",\"store\",\"christmas\",\"expected\",\"surely\",\"student\",\"list\",\"shock\",\"did\",\"appeal\",\"answer\",\"were\",\"cannot\",\"laughs\",\"so\",\"quick\",\"called\",\"weird\",\"ii\",\"students\",\"meant\",\"twist\",\"talk\",\"girlfriend\",\"ended\",\"happening\",\"plan\",\"possible\",\"like\",\"huge\",\"machine\",\"starts\",\"title\",\"kind\",\"mom\",\"actual\",\"say\",\"villain\",\"gang\",\"already\",\"impression\",\"read\",\"ve\",\"happened\",\"fair\",\"left\",\"talent\",\"group\",\"happen\",\"shot\",\"been\",\"because\",\"folks\",\"offer\",\"nightmare\",\"etc\",\"expectations\",\"clearly\",\"run\",\"add\",\"writer\",\"girls\",\"picked\",\"speaking\",\"cause\",\"religious\",\"st\",\"have\",\"felt\",\"deliver\",\"jones\",\"was\",\"am\"],\"x1\":{\"__ndarray__\":\"mfMxvgOLjj8JgPG+KQ/QP/im/UFdxge/+a3evgg3mD+oshs/XQMcPr7hTD4/HUK+geH9vm/S/UFqoPk/BNjgQb+89L5BOYdAMuouPkw25EHgzPtBXvDlQSDsAL8hXLI/SSr8POlOoUFktJ0+BpF7vkS+/b52PkG+TLs0QdjsBL/z6MBBI4AGPwiiGj/+aJ9AkCcFQch/8kEawBJBMtJ5QG7sa74D5eVAprOjQfIbHUFLKJq+AMW2QX9cGz8RnsNBDpjYQCg6O0HkKuY+0mwAvuBDy0CkMuhBTmPrQYvn/EFfoVs/erp+Pu0/vEHlcqRAr6r4QVWgTkGG+3BBVp7gQZM7nUExs78+o7PXQG6lmkAbYf1Bs30PvzNFtkH8oexB41f+QWkoU76rpo5BZFk8P+13+UGdK+xBrhzVP6qSXj+UUi5BDd2LQRGg70FJrw1B266eQV4nBEDrjyJA1CN1QU/hZ0Ff5/NBLSnZQUBr9EGcA/JBkYb4QYn3g77mwAxAgR2ePggIi0F+Ua5BflX7QbMV5EGzR/hBdN4DQcrLy0AcjBC/uU6DQdMV/kF7An9BkHTKQYzc3UHBXJE//Ue2QS5aKkDL8OlB7ETiQRg66kGF7MJBCBmZP/4lwUESLwFA/SQ2QA4Ly0BkYNlB01RLQaZB/EEmb1RBPoqFQDaZ+EGuBixBO/DkQXhwa0EVGcRBeEjDP4swC78F8eY/XUywQNzo5UEiNDVBK34jQc/akUH/eMNBGIWuQX/npEH1HfxBgSTuQU/3zUGjF+g/bXCGQaI9nUGJK79BI4vbP9iBf0EwC+5BOrL8QPQOv0CnFuhBQ8ugQRVl+EE1fvJBwX9zQaiP5UG41x1BBaqmPzGPwr66D58/ZhAGP++8+UGjvfNBChInQahe2UESvPpBlaiWQc9EjUCw3VBA2VzpQVLLXUGHG21BIH+zQW9wJUHL7P5BEI6RQHFDZEEQUClBKA+2QJoxgkDAlv1BNEXcQCjM+UFTyL9B4WgkQOd9iEFUchpAaqClQWOIe0EjOvZBxMtgQRVPk0FDCqBBIu7YQQafykFoJf1BMmZhQSCT0kH9A7ZBKHTHQQAl0kFBJfxB9B+gP1vLEUCPcPlBoGijQdiT30ET4g2/GNXLv552wkHg+uLASDRHQWazt0FysIJB9kunQXKQmEHYgvBBweigQPGL3EGcAEJBmTX9QY7c9EH40UZBzsLEQUGxSD5TmvBBbhOLQRxQ6UGXdI9BjnqewXJX9UGuHp5BOcIIwKhMRT0f+G1BE9r1QVmCvkFoEKNBnr/rQS/N70Dm4jxBcyb9QdlRVkFI38ZBxOr+QWif9kEh2vVBGxfPQZJpl0BZ1/VB8RrGQZzfP0G6VllApCToQe1z+0FSjKfAui3KQejoY0HnwuZBFuTJPcKI6kHVg55BkfDpQXe0+UEDJ7pBm8rvQfEm1j8lXflBZAfgQV9B2kD5qOFBI7YNv1sUAj+kp5tBsaqdQQFVb0GLmrFBPC+SQbHLk0FR8N9BHlmsQfXb8UGbTkI/YK3zQBHtvkGfv+ZBCES2QVef60E2ceNBcB74QaPDH8FGVPtBpZafQdwWFsHXaftBYTLJQZdkL0HRrcxBqsz9QYuMRcFGt55Ae3UqQVR7VEEfqfpBzKBpwV8//T8z+vtBgxBLQdJXgEEps1tBScnAQXwYEsA4HQ/B+1r9QbF5uUHN4JvBBdz9Qdga5kA+avdB4Zn9Qenz/UHf1aVBtfyPQbTLRkFzZqxB0MWuQb1Jo0HFIrlBj/fRQdukjcEXOdlBFWqewe6U0UBqsOVBP1PiQbdR5EGYI5dB2nm0QWeyVEGmAUJB2R6EQKVh0UHUdPtBoHmQwaKjskE72LFBWKCgQWrI6kE5ePhBIgX/QY9Yp0FQEuBBtEb2Qcisnz8LRJzBzla1QU71o0H9TjNB12fZQNC2DUGeOftB6BlBQZDwFT6bUuBAwQrPQRAP70FksftBkJVsPyCAGkFq39xBaTuZQWBmpkF1SrlBH1fBQQdV6UCtYPVBoMC9QUJguEC1tZpB11n9QQ1Tx0EMHvlBoyWawRap+0GokPdAbz6ePcU/ikAwyO5BlwIAwmrTnsELqSxBZkmMwa6d3kFOIJlB1ujtQfpYT0HJVf1B7ou7QYl9v0HeCPdBey7oQRuCjcBOYBpB8d6vQd5a3EBOlJRAtqXtQegYOkF+eaxBenUVQBCwqkGuhDJBukSawU5+ekFiQvVBreKbQR0/IMERwM9BBaiKweY1oEA4RaBBfHZ/QQpkv0HeUlrBs+hzQX7au0EJydVBsx77QXhZyEH5ZRJA4uAoQXl9TkHrVZ/BLm10QRrP70AjjfxBlg4iQa8D+UFSu8dB1jT8QcyD+UEzFbJBQ/eXQaXw0UEEnqtBtEb5QZN9s0F9h4bBME2ewXlU+EHWoNtBUoXqQZpJ8EHMO6FBdr+cwQbL4kEu9YpB9YtgQJ6AZ0GUXm5BhHPoQedI60G7H3RB37kKPgJI6EGQG/ZBVKk6QSRh90EwaexAQM9kQMc5tUHppv1Br0/UQU4iU0EOB5NByb+EwQxGYD8rjIXAGJA9QSPxvEF8IFpBmAm+QaF9mcChrd1ByMtEwaOSxUHaiPxBsenmQZvCYMHF3lVBsSzcQatC50ChOMRBc0OXQT74UsFnkkfCY9Y3wtYvNcKeh0jCMFM7wgWaR8IFQkPC64o5wjluPcIVXDLCDP48wgJKPMLmxD/Ce+VAwsPeRMLD3UDCcuApwm2YQML3y0PCnMk6wkF0NcITA8XB553XwcBBOsKVIELCnfK7wbqkmcGSRj/CUa4+wiG5OcJas0LC5qkpwhxOH8KNFEPCWT0JwhP3QsLJvDzCMQ9Fwk+gzcE/TxrC+gauwT3nmcEX+STCCPyuwWQhnMFs4ODBQyc4wlcGOcIjBB7COC+dwf5x6MF+fivCoiYTwnIOHcIc8ZnBw8gswgi/r8FlOizCjojbwdmBPsLkpznC12wAwnE1zMFqQiDCW8WfwbVFJMJ03jXCW7vSwSQPp8HhypbB9QUxwi2yC8IYch7C7MKbwbJjnsFCmQTCq92dwQT7LMI2zDLCxlO7wZraG8La2QnCvMc7wvTCJ8KkNSnCWgYjwiTgmcHQ+wXCsBSswd8EQsI2b53BnV84whek3cF5effBIPbzwTDHlsE5JqTBzccEwuhmyMHQ05nBIfORwfw5NsInp5nBhuywwf1/5MHNbLfAdbYtwiNfHsKSCjTCcq42wvYIxcH1RijCJUugwczj7sHQ0Rs+L0ArwkANtsG7NZ7BkzuYwbo2qsFlUYTBBnmewbA8Z8H55M1A1s0XwvtEz8EmUq/B98I6wc67v8FNlKDBLHmewedpmsGBs53BCyfMwfHHtsFbryLCGPjwP2EenMG6b5rBgZ+dwRIincFs0Z3BsVuvwaPsmcFWmiHCFk0Cwvr138CuG5rBJlwbwuCkG8LzWXZBS7NEwfZfT8HfxhDCgrAVwk4PxsHxd5nBaMUswpJbnMHGEbTB3nX0wVpQDcJm3MrAqDwnwjN4B8KSxJrByPgxwocMAcJE2ZrB4U6jwRAXncEEJq3BXs47wkd1vsFP4ZvBIQGcwUbhjMEChqLBkllSwZB4MMLGZ0rBD2+Qwaw2/EAsbLLBCkugwdrOZMHORwTBpz0Mwi9UmcHeAJrBhNKZwS4rvkFS+Z3BX/eawbT/kkGixg7CuHKjwaZ1PcLwUpvBLRYNwjXXmsGB/pnBACwEwst/Y8HlWZvBTbObwe8OncF37SJAGYmVQSBGoMFCPZvB8ASfwX5ZysHxIJ7BqfOLQajBncHbjCxADTufwTsNEsJIXqXBKa+dwV29v8E7fnvAgWyZwZagmsEsARJAb5CdwRpU6cEdmZrBw4mdweONyMFel77B7mgOwmkHUcHnt53BjIehwfvru0CxMprBnq6hwUUrCEFz8zJBPdihwYXXsMHPw4/BToC1wbmbDML8NlfB8/aYwVfC00Bfze/BP3+fwZWcCsCBb8vBvNWbwSRADUGecB7Ci76Wwa9/HcJYF5XB5ruewde9A8LG4JnB3HHYQZEtJcKf09s/TkEEQRQ/aUF9gsHBPJ2UwUfbjcHIz9TBiLKawZnJs8GNRNVBmhmVwGLvm8H973/B8oigwdLUgsE2dJ3BOoqdwWKnm8EXpJ7BGEOewePy9cB9ROrANaNxwXfPm8Gw2ZjBYumbwVvxmsGKDZ7BCAzGQBMwcMHyJ57Bc6ygwccVmsEKwfpBw9iawe0qnsFkkvvBAn2awfndTcE2Z0U/S/KdwQZwncGrERhBd3yEwZgcFsJSUJvBMOiawc/VkcGw+5LBmmmdwXVW3MF6jpvBfp8MwTNp7sFfuZnBbLgqwkFW/UEX1dlB4hcuwY1vmsGSDpvB22EIwr18kcHw+Z7B63SdwbqUMMAmvZvBp8u8wWxfzsFE3ZnA+fVcQfk8b8H5qKDBhKv6QSjkL0Ebjl7Bq7yjwb7atkGEkwlBVyiewb0RbMFo26PBagWawWgdncEPZJ7Bq2iFP8d+n8G8VtjBUW/rQE8nI0FatdnA5KSmwe3tmcG9t2DAzT6lwdTd6MHnnP3AHyufwbZ2ncF8CnFBc0m5wfyvPsGZPyLCpHSewYANmsHh1hjCyRlzQW515EDJ8Gw/WgT9QfX0Dj1sy5zBjhSdwQ7EncGFL57BW3nJQUowvcAU1prBasuawfsmUsEdwZjBNynhP8WLmsHSD5nBitcqwkf+h8HHCs1BpaGewTRTXcEYDgjBjpZ/wfaVmMAhh5rB2nOcwcchncF0TubBPzvmQfuG0j9gj6I/+UWdwROSQsEjnqZA4mqLwQ6B2MG48MVAIXaEwUp3BMJNYgnCcLimwMcgKMDJk5rBm34xQFMEp8HrV57BWrecwZaZmMHc4yDCqN4UQf0RNcLikPRB1EL2wMexrsDqMNfAhhCIwVT9O8G97wDCR2h+wWtUlsFNh53B65X3QSf+iMGAUpvB/gj9wUZ2bkEuUQfCVgyawYB57sGFouvBcsHdQXYhkkEzIe9B6V6bwdbiWcFlA6Y/79N5QY9jKMCHsfbANJqeweZBrb/RbNDAEijJQI2i4kEJHqxAwIV6vx+6msHMDNdADDlYQbnNmcGWOsxBlvayP2/U0MH5H57Bm2qYwbKyh8GVt5jBupr6QVZ4SEFrADfBKuMOwiDctcFCkyDCogLnQUWq8UHDoeLBaCRIwVTSPD/7BTHBRloBQRWOUkHM1ZRBjWtRQcbdPsGAtLrB9wScwUjulMHSzl5BmeQGwcEyeEFNUI9BaRctwVRihsHUPo/BesOcQBaMNsAqJgLCZrifwQ==\",\"dtype\":\"float32\",\"shape\":[1000]},\"x2\":{\"__ndarray__\":\"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\",\"dtype\":\"float32\",\"shape\":[1000]}},\"selected\":{\"id\":\"1318\"},\"selection_policy\":{\"id\":\"1319\"}},\"id\":\"1291\",\"type\":\"ColumnDataSource\"},{\"attributes\":{},\"id\":\"1279\",\"type\":\"BasicTicker\"},{\"attributes\":{},\"id\":\"1318\",\"type\":\"Selection\"},{\"attributes\":{},\"id\":\"1314\",\"type\":\"BasicTickFormatter\"},{\"attributes\":{},\"id\":\"1275\",\"type\":\"BasicTicker\"},{\"attributes\":{\"text\":\"vector T-SNE for most polarized words\"},\"id\":\"1264\",\"type\":\"Title\"},{\"attributes\":{\"fill_alpha\":{\"value\":0.1},\"fill_color\":{\"field\":\"color\"},\"line_alpha\":{\"value\":0.1},\"line_color\":{\"value\":\"#1f77b4\"},\"size\":{\"units\":\"screen\",\"value\":8},\"x\":{\"field\":\"x1\"},\"y\":{\"field\":\"x2\"}},\"id\":\"1294\",\"type\":\"Scatter\"},{\"attributes\":{},\"id\":\"1272\",\"type\":\"LinearScale\"},{\"attributes\":{\"source\":{\"id\":\"1291\"}},\"id\":\"1296\",\"type\":\"CDSView\"},{\"attributes\":{\"axis\":{\"id\":\"1274\"},\"ticker\":null},\"id\":\"1277\",\"type\":\"Grid\"},{\"attributes\":{\"fill_color\":{\"field\":\"color\"},\"line_color\":{\"value\":\"#1f77b4\"},\"size\":{\"units\":\"screen\",\"value\":8},\"x\":{\"field\":\"x1\"},\"y\":{\"field\":\"x2\"}},\"id\":\"1293\",\"type\":\"Scatter\"},{\"attributes\":{\"source\":{\"id\":\"1291\"},\"text\":{\"field\":\"names\"},\"text_align\":\"center\",\"text_color\":{\"value\":\"#555555\"},\"text_font_size\":{\"value\":\"8pt\"},\"x\":{\"field\":\"x1\"},\"y\":{\"field\":\"x2\"},\"y_offset\":{\"value\":6}},\"id\":\"1297\",\"type\":\"LabelSet\"},{\"attributes\":{\"formatter\":{\"id\":\"1314\"},\"ticker\":{\"id\":\"1279\"}},\"id\":\"1278\",\"type\":\"LinearAxis\"},{\"attributes\":{},\"id\":\"1316\",\"type\":\"BasicTickFormatter\"},{\"attributes\":{\"axis\":{\"id\":\"1278\"},\"dimension\":1,\"ticker\":null},\"id\":\"1281\",\"type\":\"Grid\"},{\"attributes\":{\"data_source\":{\"id\":\"1291\"},\"glyph\":{\"id\":\"1293\"},\"hover_glyph\":null,\"muted_glyph\":null,\"nonselection_glyph\":{\"id\":\"1294\"},\"selection_glyph\":null,\"view\":{\"id\":\"1296\"}},\"id\":\"1295\",\"type\":\"GlyphRenderer\"},{\"attributes\":{},\"id\":\"1268\",\"type\":\"DataRange1d\"},{\"attributes\":{},\"id\":\"1266\",\"type\":\"DataRange1d\"},{\"attributes\":{},\"id\":\"1283\",\"type\":\"WheelZoomTool\"}],\"root_ids\":[\"1263\"]},\"title\":\"Bokeh Application\",\"version\":\"2.0.2\"}};\n",
       "  var render_items = [{\"docid\":\"9ff935d7-277f-40c8-9ee2-0a449e7ac758\",\"root_ids\":[\"1263\"],\"roots\":{\"1263\":\"31e64fd4-513f-47c8-8208-b5571286522f\"}}];\n",
       "  root.Bokeh.embed.embed_items_notebook(docs_json, render_items);\n",
       "\n",
       "  }\n",
       "  if (root.Bokeh !== undefined) {\n",
       "    embed_document(root);\n",
       "  } else {\n",
       "    var attempts = 0;\n",
       "    var timer = setInterval(function(root) {\n",
       "      if (root.Bokeh !== undefined) {\n",
       "        clearInterval(timer);\n",
       "        embed_document(root);\n",
       "      } else {\n",
       "        attempts++;\n",
       "        if (attempts > 100) {\n",
       "          clearInterval(timer);\n",
       "          console.log(\"Bokeh: ERROR: Unable to run BokehJS code because BokehJS library is missing\");\n",
       "        }\n",
       "      }\n",
       "    }, 10, root)\n",
       "  }\n",
       "})(window);"
      ],
      "application/vnd.bokehjs_exec.v0+json": ""
     },
     "metadata": {
      "application/vnd.bokehjs_exec.v0+json": {
       "id": "1263"
      }
     },
     "output_type": "display_data"
    }
   ],
   "source": [
    "p = figure(tools=\"pan,wheel_zoom,reset,save\",\n",
    "           toolbar_location=\"above\",\n",
    "           title=\"vector T-SNE for most polarized words\")\n",
    "\n",
    "source = ColumnDataSource(data=dict(x1=words_top_ted_tsne[:,0],\n",
    "                                    x2=words_top_ted_tsne[:,1],\n",
    "                                    names=words_to_visualize,\n",
    "                                    color=colors_list))\n",
    "\n",
    "p.scatter(x=\"x1\", y=\"x2\", size=8, source=source, fill_color=\"color\")\n",
    "\n",
    "word_labels = LabelSet(x=\"x1\", y=\"x2\", text=\"names\", y_offset=6,\n",
    "                  text_font_size=\"8pt\", text_color=\"#555555\",\n",
    "                  source=source, text_align='center')\n",
    "p.add_layout(word_labels)\n",
    "\n",
    "show(p)\n",
    "\n",
    "# green indicates positive words, black indicates negative words"
   ]
  },
  {
   "cell_type": "code",
   "execution_count": null,
   "metadata": {},
   "outputs": [],
   "source": []
  }
 ],
 "metadata": {
  "anaconda-cloud": {},
  "kernelspec": {
   "display_name": "deep_learning",
   "language": "python",
   "name": "deep_learning"
  },
  "language_info": {
   "codemirror_mode": {
    "name": "ipython",
    "version": 3
   },
   "file_extension": ".py",
   "mimetype": "text/x-python",
   "name": "python",
   "nbconvert_exporter": "python",
   "pygments_lexer": "ipython3",
   "version": "3.7.7"
  }
 },
 "nbformat": 4,
 "nbformat_minor": 4
}
